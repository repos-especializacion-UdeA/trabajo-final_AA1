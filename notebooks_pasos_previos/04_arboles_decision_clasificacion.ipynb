{
 "cells": [
  {
   "cell_type": "markdown",
   "metadata": {},
   "source": [
    "[![Open in Colab](https://colab.research.google.com/assets/colab-badge.svg)](https://colab.research.google.com/github/repos-especializacion-UdeA/trabajo-final_AA1/blob/main/notebooks_pasos_previos/04_arboles_decision_clasificacion.ipynb)"
   ]
  },
  {
   "cell_type": "markdown",
   "metadata": {},
   "source": [
    "# Árboles de Decisión Clasificación"
   ]
  },
  {
   "cell_type": "markdown",
   "metadata": {},
   "source": [
    "## Autores\n",
    "\n",
    "* Jairo Agudelo M.\n",
    "* Henry Arcila."
   ]
  },
  {
   "cell_type": "markdown",
   "metadata": {},
   "source": [
    "## Descripción corta del dataset\n",
    "\n",
    "El dataset a trabajar [db1_rms_prep.csv](./datasets_tarea/db1_rms_prep.csv) es uno de los dataset resultantes de la etapa previa de preparacion del dataset ([link](01_preparacion_dataset_clasificacion.ipynb)). Cada entrada de la base de datos contiene los valores RMS de cada uno de los 10 sensores EMG para una ventana de tiempo de 30 muestras de señal y la postura a la cual se asocia esta venta. A continuación se describen cada una de las columnas de la muestra.\n",
    "\n",
    "Esta base de datos se describe a continuación:\n",
    "\n",
    "| Columna               | Descripción                                       | Ejemplo   |\n",
    "|:----------------------|:--------------------------------------------------|:----------|\n",
    "| `emg1`                | Valor RMS sensor 1                                | 0.052510  | \n",
    "| `emg2`                | Valor RMS sensor 2                                | 0.002414  |\t\n",
    "| `emg3`                | Valor RMS sensor 3                                | 0.002445  |\n",
    "| `emg4`                | Valor RMS sensor 4                                | 0.002417  |\n",
    "| `emg5`                | Valor RMS sensor 5                                | 0.002400  |\n",
    "| `emg6`                | Valor RMS sensor 6                                | 0.006204  |\n",
    "| `emg7`                | Valor RMS sensor 7                                | 0.0024    |\n",
    "| `emg8`                | Valor RMS sensor 8                                | 0.041218  |\n",
    "| `emg9`                | Valor RMS sensor 9                                | 0.0024    |\n",
    "| `emg1p`               | Valor RMS sensor 10                               | 0.019526  |\n",
    "| `label`               | Numero de la postura realizada  (1 - 12)          | 5         |\n",
    "\n",
    "Este dataset sera empleado para realizar el entrenamiento y test del modelo."
   ]
  },
  {
   "cell_type": "markdown",
   "metadata": {},
   "source": [
    "## Objetivo a desarrollar\n",
    "\n",
    "> Utilizar el metodo de clasificación usando arboles de decisión para identificar el tipo de postura de mano asociado a una señal electromiográfica superficial, a partir de una muestra localizada en una ventana de tiempo."
   ]
  },
  {
   "cell_type": "markdown",
   "metadata": {},
   "source": [
    "## Resumen del proceso realizado\n",
    "\n",
    "To Do..."
   ]
  },
  {
   "cell_type": "markdown",
   "metadata": {},
   "source": [
    "## Desarrollo de experimentos"
   ]
  },
  {
   "cell_type": "markdown",
   "metadata": {
    "id": "UoeVw4gTwXet"
   },
   "source": [
    "## 1. Librerias y configuraciones previas\n"
   ]
  },
  {
   "cell_type": "code",
   "execution_count": 1,
   "metadata": {},
   "outputs": [],
   "source": [
    "# Verificacion de librerias necesarias antes de empezar\n",
    "try:\n",
    "    import scipy.io\n",
    "except ImportError:\n",
    "    !pip install scipy\n",
    "\n",
    "try:\n",
    "    import imblearn\n",
    "except ImportError:\n",
    "    !pip install imblearn"
   ]
  },
  {
   "cell_type": "code",
   "execution_count": 2,
   "metadata": {},
   "outputs": [
    {
     "name": "stdout",
     "output_type": "stream",
     "text": [
      ".\n",
      "El notebook no se está ejecutando en Google Colab.\n"
     ]
    }
   ],
   "source": [
    "# Determinacion si el archivo se va a ejecutar desde colab o local y configuracion de los elementos necesarios para la ejecucion\n",
    "import sys\n",
    "import os\n",
    "\n",
    "# Path del notebook\n",
    "notebook_path = \".\"\n",
    "print(notebook_path)\n",
    "try:\n",
    "    import google.colab\n",
    "    !git clone https://github.com/repos-especializacion-UdeA/trabajo-final_AA1.git\n",
    "    %cd /content/trabajo-final_AA1/notebooks_pasos_previos   \n",
    "    %pwd\n",
    "    ruta_base = '/content/trabajo-final_AA1/notebooks_pasos_previos/'\n",
    "    sys.path.append(ruta_base)\n",
    "except ImportError:\n",
    "    print(\"El notebook no se está ejecutando en Google Colab.\")\n",
    "    ruta_base = './'"
   ]
  },
  {
   "cell_type": "code",
   "execution_count": 23,
   "metadata": {},
   "outputs": [],
   "source": [
    "# Tratamiento de datos\n",
    "# ==============================================================================\n",
    "import pandas as pd\n",
    "import numpy as np\n",
    "\n",
    "\n",
    "# Almacenar en caché los resultados de funciones en el disco\n",
    "# ==============================================================================\n",
    "import joblib\n",
    "\n",
    "\n",
    "# Gestion de librerias\n",
    "# ==============================================================================\n",
    "from importlib import reload\n",
    "\n",
    "\n",
    "# Matemáticas y estadísticas\n",
    "# ==============================================================================\n",
    "import math\n",
    "\n",
    "\n",
    "# Preprocesado y modelado\n",
    "# ==============================================================================\n",
    "import math\n",
    "\n",
    "#Separar los datos entrenamiento y prueba\n",
    "from sklearn.model_selection import train_test_split\n",
    "\n",
    "\n",
    "#Escalar Variables\n",
    "from sklearn.preprocessing import MinMaxScaler\n",
    "\n",
    "\n",
    "#Evaluación del modelo\n",
    "from sklearn import metrics\n",
    "from sklearn.metrics import classification_report, confusion_matrix, ConfusionMatrixDisplay\n",
    "from sklearn.metrics import roc_auc_score\n",
    "from sklearn.metrics import roc_curve\n",
    "from sklearn.metrics import f1_score\n",
    "\n",
    "\n",
    "#Creación de modelo\n",
    "from sklearn.tree import DecisionTreeClassifier\n",
    "from sklearn.tree import plot_tree\n",
    "from sklearn.tree import export_graphviz\n",
    "from sklearn.tree import export_text\n",
    "\n",
    "\n",
    "#configuracion de hiperparámetros\n",
    "from sklearn.model_selection import GridSearchCV\n",
    "from sklearn.model_selection import cross_val_score\n",
    "\n",
    "# Gráficos\n",
    "# ==============================================================================\n",
    "import matplotlib.pyplot as plt\n",
    "from matplotlib import style\n",
    "import seaborn as sns\n",
    "\n",
    "\n",
    "# Configuración warnings\n",
    "# ==============================================================================\n",
    "import warnings\n",
    "warnings.filterwarnings('ignore')"
   ]
  },
  {
   "cell_type": "markdown",
   "metadata": {
    "id": "DBTg9fbUwXeu"
   },
   "source": [
    "## 2. Funciones"
   ]
  },
  {
   "cell_type": "code",
   "execution_count": 4,
   "metadata": {},
   "outputs": [],
   "source": [
    "#reload(utils.funciones)\n",
    "\n",
    "# Funciones externas\n",
    "# ==============================================================================\n",
    "from utils.funciones1 import multiple_plot, plot_roc_curve"
   ]
  },
  {
   "cell_type": "markdown",
   "metadata": {},
   "source": [
    "## 3. Carga del dataset"
   ]
  },
  {
   "cell_type": "code",
   "execution_count": 5,
   "metadata": {},
   "outputs": [],
   "source": [
    "#Se crea un dataframe d con los datos obtenidos de archivo de entrada\n",
    "DATA_PATH = './datasets_tarea/'\n",
    "d=pd.read_csv(DATA_PATH + 'db1_rms_prep.csv')"
   ]
  },
  {
   "cell_type": "code",
   "execution_count": 6,
   "metadata": {},
   "outputs": [
    {
     "name": "stdout",
     "output_type": "stream",
     "text": [
      "<class 'pandas.core.frame.DataFrame'>\n",
      "RangeIndex: 16250 entries, 0 to 16249\n",
      "Data columns (total 11 columns):\n",
      " #   Column  Non-Null Count  Dtype  \n",
      "---  ------  --------------  -----  \n",
      " 0   emg_1   16250 non-null  float64\n",
      " 1   emg_2   16250 non-null  float64\n",
      " 2   emg_3   16250 non-null  float64\n",
      " 3   emg_4   16250 non-null  float64\n",
      " 4   emg_5   16250 non-null  float64\n",
      " 5   emg_6   16250 non-null  float64\n",
      " 6   emg_7   16250 non-null  float64\n",
      " 7   emg_8   16250 non-null  float64\n",
      " 8   emg_9   16250 non-null  float64\n",
      " 9   emg_10  16250 non-null  float64\n",
      " 10  label   16250 non-null  int64  \n",
      "dtypes: float64(10), int64(1)\n",
      "memory usage: 1.4 MB\n"
     ]
    }
   ],
   "source": [
    "d.info()"
   ]
  },
  {
   "cell_type": "markdown",
   "metadata": {},
   "source": [
    "## 4. Visualización de datos"
   ]
  },
  {
   "cell_type": "markdown",
   "metadata": {},
   "source": [
    "### Variables de entrada"
   ]
  },
  {
   "cell_type": "code",
   "execution_count": 7,
   "metadata": {},
   "outputs": [
    {
     "data": {
      "text/html": [
       "<div>\n",
       "<style scoped>\n",
       "    .dataframe tbody tr th:only-of-type {\n",
       "        vertical-align: middle;\n",
       "    }\n",
       "\n",
       "    .dataframe tbody tr th {\n",
       "        vertical-align: top;\n",
       "    }\n",
       "\n",
       "    .dataframe thead th {\n",
       "        text-align: right;\n",
       "    }\n",
       "</style>\n",
       "<table border=\"1\" class=\"dataframe\">\n",
       "  <thead>\n",
       "    <tr style=\"text-align: right;\">\n",
       "      <th></th>\n",
       "    </tr>\n",
       "  </thead>\n",
       "  <tbody>\n",
       "    <tr>\n",
       "      <th>0</th>\n",
       "    </tr>\n",
       "    <tr>\n",
       "      <th>1</th>\n",
       "    </tr>\n",
       "  </tbody>\n",
       "</table>\n",
       "</div>"
      ],
      "text/plain": [
       "Empty DataFrame\n",
       "Columns: []\n",
       "Index: [0, 1]"
      ]
     },
     "execution_count": 7,
     "metadata": {},
     "output_type": "execute_result"
    }
   ],
   "source": [
    "#Lista de variables categóricas\n",
    "catCols = d.select_dtypes(include = [\"object\", 'category']).columns.tolist()\n",
    "\n",
    "d[catCols].head(2)"
   ]
  },
  {
   "cell_type": "code",
   "execution_count": 8,
   "metadata": {},
   "outputs": [
    {
     "data": {
      "text/html": [
       "<div>\n",
       "<style scoped>\n",
       "    .dataframe tbody tr th:only-of-type {\n",
       "        vertical-align: middle;\n",
       "    }\n",
       "\n",
       "    .dataframe tbody tr th {\n",
       "        vertical-align: top;\n",
       "    }\n",
       "\n",
       "    .dataframe thead th {\n",
       "        text-align: right;\n",
       "    }\n",
       "</style>\n",
       "<table border=\"1\" class=\"dataframe\">\n",
       "  <thead>\n",
       "    <tr style=\"text-align: right;\">\n",
       "      <th></th>\n",
       "      <th>emg_1</th>\n",
       "      <th>emg_2</th>\n",
       "      <th>emg_3</th>\n",
       "      <th>emg_4</th>\n",
       "      <th>emg_5</th>\n",
       "      <th>emg_6</th>\n",
       "      <th>emg_7</th>\n",
       "      <th>emg_8</th>\n",
       "      <th>emg_9</th>\n",
       "      <th>emg_10</th>\n",
       "      <th>label</th>\n",
       "    </tr>\n",
       "  </thead>\n",
       "  <tbody>\n",
       "    <tr>\n",
       "      <th>0</th>\n",
       "      <td>0.516068</td>\n",
       "      <td>0.580968</td>\n",
       "      <td>0.173756</td>\n",
       "      <td>0.068346</td>\n",
       "      <td>0.031557</td>\n",
       "      <td>0.002400</td>\n",
       "      <td>0.002447</td>\n",
       "      <td>0.049063</td>\n",
       "      <td>0.608643</td>\n",
       "      <td>0.006596</td>\n",
       "      <td>0</td>\n",
       "    </tr>\n",
       "    <tr>\n",
       "      <th>1</th>\n",
       "      <td>0.123792</td>\n",
       "      <td>0.290991</td>\n",
       "      <td>0.007430</td>\n",
       "      <td>0.002466</td>\n",
       "      <td>0.002441</td>\n",
       "      <td>0.002399</td>\n",
       "      <td>0.002422</td>\n",
       "      <td>0.008951</td>\n",
       "      <td>0.002594</td>\n",
       "      <td>0.002414</td>\n",
       "      <td>0</td>\n",
       "    </tr>\n",
       "  </tbody>\n",
       "</table>\n",
       "</div>"
      ],
      "text/plain": [
       "      emg_1     emg_2     emg_3     emg_4     emg_5     emg_6     emg_7  \\\n",
       "0  0.516068  0.580968  0.173756  0.068346  0.031557  0.002400  0.002447   \n",
       "1  0.123792  0.290991  0.007430  0.002466  0.002441  0.002399  0.002422   \n",
       "\n",
       "      emg_8     emg_9    emg_10  label  \n",
       "0  0.049063  0.608643  0.006596      0  \n",
       "1  0.008951  0.002594  0.002414      0  "
      ]
     },
     "execution_count": 8,
     "metadata": {},
     "output_type": "execute_result"
    }
   ],
   "source": [
    "#Lista de variables numéricas\n",
    "\n",
    "numCols=d.select_dtypes(include = ['float64','float64','int32','int64']).columns.tolist()\n",
    "\n",
    "d[numCols].head(2)"
   ]
  },
  {
   "cell_type": "code",
   "execution_count": 9,
   "metadata": {},
   "outputs": [],
   "source": [
    "##Visualización de frecuencia de instancias para variables categóricas\n",
    "#multiple_plot(3, d , catCols, None, 'countplot', 'Frecuencia de instancias para variables categóricas',30)"
   ]
  },
  {
   "cell_type": "code",
   "execution_count": 10,
   "metadata": {},
   "outputs": [],
   "source": [
    "##Visualización de variables numéricas\n",
    "#multiple_plot(1, d , numCols, None, 'scatterplot', 'Relación entre las variables numéricas',30)"
   ]
  },
  {
   "cell_type": "code",
   "execution_count": 11,
   "metadata": {},
   "outputs": [],
   "source": [
    "#Eliminar la variable de salida de la lista de variable numéricas\n",
    "numCols.remove('label')"
   ]
  },
  {
   "cell_type": "markdown",
   "metadata": {},
   "source": [
    "### Variable de salida"
   ]
  },
  {
   "cell_type": "code",
   "execution_count": 12,
   "metadata": {},
   "outputs": [
    {
     "data": {
      "text/plain": [
       "label\n",
       "0     1250\n",
       "1     1250\n",
       "2     1250\n",
       "3     1250\n",
       "4     1250\n",
       "5     1250\n",
       "6     1250\n",
       "7     1250\n",
       "8     1250\n",
       "9     1250\n",
       "10    1250\n",
       "11    1250\n",
       "12    1250\n",
       "Name: label, dtype: int64"
      ]
     },
     "execution_count": 12,
     "metadata": {},
     "output_type": "execute_result"
    }
   ],
   "source": [
    "# Distriución de la variable de salida\n",
    "\n",
    "d.groupby('label').label.count().sort_values(ascending=False)"
   ]
  },
  {
   "cell_type": "code",
   "execution_count": 13,
   "metadata": {},
   "outputs": [
    {
     "data": {
      "image/png": "[encoded data removed]",
      "text/plain": [
       "<Figure size 600x400 with 1 Axes>"
      ]
     },
     "metadata": {},
     "output_type": "display_data"
    }
   ],
   "source": [
    "##Visualización de la variable de salida\n",
    "multiple_plot(1, d , None, 'label', 'countplot', 'Gráfica de frecuencia de label',0)"
   ]
  },
  {
   "cell_type": "markdown",
   "metadata": {},
   "source": [
    "## 5. Transformación de datos"
   ]
  },
  {
   "cell_type": "markdown",
   "metadata": {},
   "source": [
    "### Creación de variables Dummies "
   ]
  },
  {
   "cell_type": "code",
   "execution_count": 14,
   "metadata": {},
   "outputs": [
    {
     "name": "stdout",
     "output_type": "stream",
     "text": [
      "<class 'pandas.core.frame.DataFrame'>\n",
      "RangeIndex: 16250 entries, 0 to 16249\n",
      "Data columns (total 11 columns):\n",
      " #   Column  Non-Null Count  Dtype  \n",
      "---  ------  --------------  -----  \n",
      " 0   emg_1   16250 non-null  float64\n",
      " 1   emg_2   16250 non-null  float64\n",
      " 2   emg_3   16250 non-null  float64\n",
      " 3   emg_4   16250 non-null  float64\n",
      " 4   emg_5   16250 non-null  float64\n",
      " 5   emg_6   16250 non-null  float64\n",
      " 6   emg_7   16250 non-null  float64\n",
      " 7   emg_8   16250 non-null  float64\n",
      " 8   emg_9   16250 non-null  float64\n",
      " 9   emg_10  16250 non-null  float64\n",
      " 10  label   16250 non-null  int64  \n",
      "dtypes: float64(10), int64(1)\n",
      "memory usage: 1.4 MB\n"
     ]
    }
   ],
   "source": [
    "# Aplicación de la función de usuario Dummies: one-hot encoding\n",
    "\n",
    "d =pd.get_dummies(d, drop_first=1)\n",
    "\n",
    "d.info()"
   ]
  },
  {
   "cell_type": "markdown",
   "metadata": {},
   "source": [
    "## 6. Creación del modelo"
   ]
  },
  {
   "cell_type": "markdown",
   "metadata": {},
   "source": [
    "### Dividir el conjunto de datos"
   ]
  },
  {
   "cell_type": "code",
   "execution_count": 15,
   "metadata": {},
   "outputs": [],
   "source": [
    "#Se establece las variables de entrada 'X' y la variable de salida 'y'\n",
    "X = d.drop(columns ='label')\n",
    "y = d['label']"
   ]
  },
  {
   "cell_type": "code",
   "execution_count": 16,
   "metadata": {},
   "outputs": [],
   "source": [
    "# Se crean los datasets de entrenamiento y prueba para las variables de entrada y salida \n",
    "\n",
    "X_train, X_test, y_train, y_test = train_test_split(\n",
    "                                        X,\n",
    "                                        y.values.reshape(-1,1), \n",
    "                                        train_size   = 0.8,\n",
    "                                        random_state = 123,\n",
    "                                        shuffle      = True\n",
    "                                    )"
   ]
  },
  {
   "cell_type": "markdown",
   "metadata": {},
   "source": [
    "### Escalar Variables"
   ]
  },
  {
   "cell_type": "code",
   "execution_count": 17,
   "metadata": {},
   "outputs": [
    {
     "name": "stdout",
     "output_type": "stream",
     "text": [
      "['emg_1', 'emg_2', 'emg_3', 'emg_4', 'emg_5', 'emg_6', 'emg_7', 'emg_8', 'emg_9', 'emg_10']\n"
     ]
    }
   ],
   "source": [
    "#Se establecen las variables numéricas a escalar\n",
    "\n",
    "#Num_vars se le asigna la lista con las variables numerivas para posteriormente escalarlas\n",
    "num_vars = numCols\n",
    "\n",
    "print(num_vars)"
   ]
  },
  {
   "cell_type": "code",
   "execution_count": 18,
   "metadata": {},
   "outputs": [
    {
     "data": {
      "text/html": [
       "<div>\n",
       "<style scoped>\n",
       "    .dataframe tbody tr th:only-of-type {\n",
       "        vertical-align: middle;\n",
       "    }\n",
       "\n",
       "    .dataframe tbody tr th {\n",
       "        vertical-align: top;\n",
       "    }\n",
       "\n",
       "    .dataframe thead th {\n",
       "        text-align: right;\n",
       "    }\n",
       "</style>\n",
       "<table border=\"1\" class=\"dataframe\">\n",
       "  <thead>\n",
       "    <tr style=\"text-align: right;\">\n",
       "      <th></th>\n",
       "      <th>emg_1</th>\n",
       "      <th>emg_2</th>\n",
       "      <th>emg_3</th>\n",
       "      <th>emg_4</th>\n",
       "      <th>emg_5</th>\n",
       "      <th>emg_6</th>\n",
       "      <th>emg_7</th>\n",
       "      <th>emg_8</th>\n",
       "      <th>emg_9</th>\n",
       "      <th>emg_10</th>\n",
       "    </tr>\n",
       "  </thead>\n",
       "  <tbody>\n",
       "    <tr>\n",
       "      <th>6381</th>\n",
       "      <td>0.0018</td>\n",
       "      <td>0.0126</td>\n",
       "      <td>0.0777</td>\n",
       "      <td>0.0180</td>\n",
       "      <td>0.0043</td>\n",
       "      <td>0.0066</td>\n",
       "      <td>0.0824</td>\n",
       "      <td>0.0421</td>\n",
       "      <td>0.2490</td>\n",
       "      <td>0.0688</td>\n",
       "    </tr>\n",
       "    <tr>\n",
       "      <th>6222</th>\n",
       "      <td>0.0035</td>\n",
       "      <td>0.1545</td>\n",
       "      <td>0.0999</td>\n",
       "      <td>0.0290</td>\n",
       "      <td>0.2317</td>\n",
       "      <td>0.1491</td>\n",
       "      <td>0.2492</td>\n",
       "      <td>0.3142</td>\n",
       "      <td>0.1080</td>\n",
       "      <td>0.1018</td>\n",
       "    </tr>\n",
       "  </tbody>\n",
       "</table>\n",
       "</div>"
      ],
      "text/plain": [
       "      emg_1  emg_2  emg_3  emg_4  emg_5  emg_6  emg_7  emg_8  emg_9  emg_10\n",
       "6381 0.0018 0.0126 0.0777 0.0180 0.0043 0.0066 0.0824 0.0421 0.2490  0.0688\n",
       "6222 0.0035 0.1545 0.0999 0.0290 0.2317 0.1491 0.2492 0.3142 0.1080  0.1018"
      ]
     },
     "execution_count": 18,
     "metadata": {},
     "output_type": "execute_result"
    }
   ],
   "source": [
    "#Escalar Variables númericas\n",
    "\n",
    "pd.set_option('display.float_format', lambda x: '%.4f' % x)\n",
    "\n",
    "# Se crea un objeto MinMaxScaler\n",
    "scaler = MinMaxScaler()\n",
    "\n",
    "# Se escalan los valores del dataset entrenamiento y prueba de las columnas numéricas\n",
    "X_train[num_vars] = scaler.fit_transform(X_train[num_vars])\n",
    "X_test[num_vars] = scaler.transform(X_test[num_vars])\n",
    "\n",
    "X_train[num_vars].head(2)"
   ]
  },
  {
   "cell_type": "markdown",
   "metadata": {},
   "source": [
    "### Creación del modelos"
   ]
  },
  {
   "cell_type": "markdown",
   "metadata": {},
   "source": [
    "- **criterion** (default=”gini”): Función para medir la calidad de la partición: “gini”, “entropy”, “log_loss”.\n",
    "    - Gini es más rápido de calcular que la entropía, tiende a favorecer la partición de nodos que contienen clases mayoritarias en el conjunto de datos.\n",
    "    - La entropía tiende a favorecer la creación de árboles más equilibrados y puede ser más útil cuando se tienen múltiples clases con distribuciones más uniformes.\n",
    "Aunque ligeramente más costosa computacionalmente que Gini,\n",
    "- **max_depth** (default=None): maxima profundidad del árbol\n",
    "- **min_samples_split**(default=2): Mínimo de ejemplos para separar un nodo interno \n",
    "- **min_samples_leaf**(default=1): Mínimo numero de ejemplos requeridos en un nodo hoja\n",
    "- **ccp_alpha**: Parámetro de complejidad usado para el  Minimal Cost-Complexity de poda. Es un algoritmo que se usa para podar un árbol para evitar el over-fitting"
   ]
  },
  {
   "cell_type": "code",
   "execution_count": 46,
   "metadata": {
    "colab": {
     "base_uri": "https://localhost:8080/"
    },
    "executionInfo": {
     "elapsed": 409,
     "status": "ok",
     "timestamp": 1612408308058,
     "user": {
      "displayName": "JORGE ALONSO BEDOYA PUERTA",
      "photoUrl": "",
      "userId": "14875356627137784897"
     },
     "user_tz": 300
    },
    "id": "F01T6MC6wXe4",
    "outputId": "efb5e285-a197-4230-ca56-88208c0a75f8"
   },
   "outputs": [
    {
     "data": {
      "text/html": [
       "<style>#sk-container-id-9 {color: black;background-color: white;}#sk-container-id-9 pre{padding: 0;}#sk-container-id-9 div.sk-toggleable {background-color: white;}#sk-container-id-9 label.sk-toggleable__label {cursor: pointer;display: block;width: 100%;margin-bottom: 0;padding: 0.3em;box-sizing: border-box;text-align: center;}#sk-container-id-9 label.sk-toggleable__label-arrow:before {content: \"▸\";float: left;margin-right: 0.25em;color: #696969;}#sk-container-id-9 label.sk-toggleable__label-arrow:hover:before {color: black;}#sk-container-id-9 div.sk-estimator:hover label.sk-toggleable__label-arrow:before {color: black;}#sk-container-id-9 div.sk-toggleable__content {max-height: 0;max-width: 0;overflow: hidden;text-align: left;background-color: #f0f8ff;}#sk-container-id-9 div.sk-toggleable__content pre {margin: 0.2em;color: black;border-radius: 0.25em;background-color: #f0f8ff;}#sk-container-id-9 input.sk-toggleable__control:checked~div.sk-toggleable__content {max-height: 200px;max-width: 100%;overflow: auto;}#sk-container-id-9 input.sk-toggleable__control:checked~label.sk-toggleable__label-arrow:before {content: \"▾\";}#sk-container-id-9 div.sk-estimator input.sk-toggleable__control:checked~label.sk-toggleable__label {background-color: #d4ebff;}#sk-container-id-9 div.sk-label input.sk-toggleable__control:checked~label.sk-toggleable__label {background-color: #d4ebff;}#sk-container-id-9 input.sk-hidden--visually {border: 0;clip: rect(1px 1px 1px 1px);clip: rect(1px, 1px, 1px, 1px);height: 1px;margin: -1px;overflow: hidden;padding: 0;position: absolute;width: 1px;}#sk-container-id-9 div.sk-estimator {font-family: monospace;background-color: #f0f8ff;border: 1px dotted black;border-radius: 0.25em;box-sizing: border-box;margin-bottom: 0.5em;}#sk-container-id-9 div.sk-estimator:hover {background-color: #d4ebff;}#sk-container-id-9 div.sk-parallel-item::after {content: \"\";width: 100%;border-bottom: 1px solid gray;flex-grow: 1;}#sk-container-id-9 div.sk-label:hover label.sk-toggleable__label {background-color: #d4ebff;}#sk-container-id-9 div.sk-serial::before {content: \"\";position: absolute;border-left: 1px solid gray;box-sizing: border-box;top: 0;bottom: 0;left: 50%;z-index: 0;}#sk-container-id-9 div.sk-serial {display: flex;flex-direction: column;align-items: center;background-color: white;padding-right: 0.2em;padding-left: 0.2em;position: relative;}#sk-container-id-9 div.sk-item {position: relative;z-index: 1;}#sk-container-id-9 div.sk-parallel {display: flex;align-items: stretch;justify-content: center;background-color: white;position: relative;}#sk-container-id-9 div.sk-item::before, #sk-container-id-9 div.sk-parallel-item::before {content: \"\";position: absolute;border-left: 1px solid gray;box-sizing: border-box;top: 0;bottom: 0;left: 50%;z-index: -1;}#sk-container-id-9 div.sk-parallel-item {display: flex;flex-direction: column;z-index: 1;position: relative;background-color: white;}#sk-container-id-9 div.sk-parallel-item:first-child::after {align-self: flex-end;width: 50%;}#sk-container-id-9 div.sk-parallel-item:last-child::after {align-self: flex-start;width: 50%;}#sk-container-id-9 div.sk-parallel-item:only-child::after {width: 0;}#sk-container-id-9 div.sk-dashed-wrapped {border: 1px dashed gray;margin: 0 0.4em 0.5em 0.4em;box-sizing: border-box;padding-bottom: 0.4em;background-color: white;}#sk-container-id-9 div.sk-label label {font-family: monospace;font-weight: bold;display: inline-block;line-height: 1.2em;}#sk-container-id-9 div.sk-label-container {text-align: center;}#sk-container-id-9 div.sk-container {/* jupyter's `normalize.less` sets `[hidden] { display: none; }` but bootstrap.min.css set `[hidden] { display: none !important; }` so we also need the `!important` here to be able to override the default hidden behavior on the sphinx rendered scikit-learn.org. See: https://github.com/scikit-learn/scikit-learn/issues/21755 */display: inline-block !important;position: relative;}#sk-container-id-9 div.sk-text-repr-fallback {display: none;}</style><div id=\"sk-container-id-9\" class=\"sk-top-container\"><div class=\"sk-text-repr-fallback\"><pre>DecisionTreeClassifier(random_state=123)</pre><b>In a Jupyter environment, please rerun this cell to show the HTML representation or trust the notebook. <br />On GitHub, the HTML representation is unable to render, please try loading this page with nbviewer.org.</b></div><div class=\"sk-container\" hidden><div class=\"sk-item\"><div class=\"sk-estimator sk-toggleable\"><input class=\"sk-toggleable__control sk-hidden--visually\" id=\"sk-estimator-id-9\" type=\"checkbox\" checked><label for=\"sk-estimator-id-9\" class=\"sk-toggleable__label sk-toggleable__label-arrow\">DecisionTreeClassifier</label><div class=\"sk-toggleable__content\"><pre>DecisionTreeClassifier(random_state=123)</pre></div></div></div></div></div>"
      ],
      "text/plain": [
       "DecisionTreeClassifier(random_state=123)"
      ]
     },
     "execution_count": 46,
     "metadata": {},
     "output_type": "execute_result"
    }
   ],
   "source": [
    "# Creación del modelo\n",
    "# ------------------------------------------------------------------------------\n",
    "modelDtree1 = DecisionTreeClassifier(\n",
    "            max_depth         = None,\n",
    "            criterion         = 'gini',\n",
    "            random_state      = 123,\n",
    "            min_samples_leaf = 1,\n",
    "            min_samples_split = 2\n",
    "          )\n",
    "\n",
    "# Entrenamiento del modelo\n",
    "# ------------------------------------------------------------------------------\n",
    "modelDtree1.fit(X_train, y_train)"
   ]
  },
  {
   "cell_type": "code",
   "execution_count": 47,
   "metadata": {},
   "outputs": [
    {
     "name": "stdout",
     "output_type": "stream",
     "text": [
      "Profundidad del árbol: 31\n",
      "Número de nodos terminales: 2758\n",
      "F1 Score: 0.6904516160814774\n"
     ]
    }
   ],
   "source": [
    "# Estructura del árbol creado\n",
    "# ------------------------------------------------------------------------------\n",
    "print(f\"Profundidad del árbol: {modelDtree1.get_depth()}\")\n",
    "print(f\"Número de nodos terminales: {modelDtree1.get_n_leaves()}\")\n",
    "\n",
    "# fig, ax = plt.subplots(figsize=(28, 8))\n",
    "\n",
    "\n",
    "# plot = plot_tree(\n",
    "#            decision_tree = modelDtree1,\n",
    "#            feature_names = X.columns,\n",
    "#            class_names   = True,\n",
    "#            filled        = True,\n",
    "#            impurity      = True,\n",
    "#            fontsize      = 7,\n",
    "#            ax            = ax\n",
    "#       )\n",
    "\n",
    "# Calcular el F1 score\n",
    "y_pred1 = modelDtree1.predict(X_test)\n",
    "f1_tree = f1_score(y_test, y_pred1, average='weighted')\n",
    "print(\"F1 Score:\", f1_tree)"
   ]
  },
  {
   "cell_type": "markdown",
   "metadata": {},
   "source": [
    "#### Evaluacion del modelo"
   ]
  },
  {
   "cell_type": "code",
   "execution_count": 48,
   "metadata": {},
   "outputs": [
    {
     "data": {
      "image/png": "[encoded data removed]",
      "text/plain": [
       "<Figure size 640x480 with 2 Axes>"
      ]
     },
     "metadata": {},
     "output_type": "display_data"
    },
    {
     "name": "stdout",
     "output_type": "stream",
     "text": [
      "              precision    recall  f1-score   support\n",
      "\n",
      "           0       0.54      0.58      0.56       236\n",
      "           1       0.77      0.76      0.77       261\n",
      "           2       0.77      0.81      0.79       254\n",
      "           3       0.62      0.67      0.64       250\n",
      "           4       0.72      0.73      0.72       257\n",
      "           5       0.68      0.64      0.66       251\n",
      "           6       0.73      0.69      0.71       254\n",
      "           7       0.76      0.72      0.74       267\n",
      "           8       0.68      0.69      0.69       248\n",
      "           9       0.65      0.67      0.66       237\n",
      "          10       0.68      0.66      0.67       264\n",
      "          11       0.68      0.63      0.66       244\n",
      "          12       0.69      0.72      0.70       227\n",
      "\n",
      "    accuracy                           0.69      3250\n",
      "   macro avg       0.69      0.69      0.69      3250\n",
      "weighted avg       0.69      0.69      0.69      3250\n",
      "\n"
     ]
    }
   ],
   "source": [
    "# Calcular la matriz de confusión\n",
    "cm = confusion_matrix(y_test, y_pred1)\n",
    "\n",
    "# Crear la visualización de la matriz de confusión\n",
    "disp = ConfusionMatrixDisplay(confusion_matrix=cm, display_labels=np.unique(y_test))\n",
    "\n",
    "# Mostrar la visualización\n",
    "disp.plot(cmap='Blues')\n",
    "\n",
    "# Configurar el título\n",
    "plt.title('Modelo Dtree1')\n",
    "\n",
    "# Mostrar la figura\n",
    "plt.show()\n",
    "\n",
    "# Mostrar el informe de clasificación\n",
    "print(classification_report(y_test, y_pred1))"
   ]
  },
  {
   "cell_type": "code",
   "execution_count": 49,
   "metadata": {},
   "outputs": [
    {
     "data": {
      "text/html": [
       "<style>#sk-container-id-10 {color: black;background-color: white;}#sk-container-id-10 pre{padding: 0;}#sk-container-id-10 div.sk-toggleable {background-color: white;}#sk-container-id-10 label.sk-toggleable__label {cursor: pointer;display: block;width: 100%;margin-bottom: 0;padding: 0.3em;box-sizing: border-box;text-align: center;}#sk-container-id-10 label.sk-toggleable__label-arrow:before {content: \"▸\";float: left;margin-right: 0.25em;color: #696969;}#sk-container-id-10 label.sk-toggleable__label-arrow:hover:before {color: black;}#sk-container-id-10 div.sk-estimator:hover label.sk-toggleable__label-arrow:before {color: black;}#sk-container-id-10 div.sk-toggleable__content {max-height: 0;max-width: 0;overflow: hidden;text-align: left;background-color: #f0f8ff;}#sk-container-id-10 div.sk-toggleable__content pre {margin: 0.2em;color: black;border-radius: 0.25em;background-color: #f0f8ff;}#sk-container-id-10 input.sk-toggleable__control:checked~div.sk-toggleable__content {max-height: 200px;max-width: 100%;overflow: auto;}#sk-container-id-10 input.sk-toggleable__control:checked~label.sk-toggleable__label-arrow:before {content: \"▾\";}#sk-container-id-10 div.sk-estimator input.sk-toggleable__control:checked~label.sk-toggleable__label {background-color: #d4ebff;}#sk-container-id-10 div.sk-label input.sk-toggleable__control:checked~label.sk-toggleable__label {background-color: #d4ebff;}#sk-container-id-10 input.sk-hidden--visually {border: 0;clip: rect(1px 1px 1px 1px);clip: rect(1px, 1px, 1px, 1px);height: 1px;margin: -1px;overflow: hidden;padding: 0;position: absolute;width: 1px;}#sk-container-id-10 div.sk-estimator {font-family: monospace;background-color: #f0f8ff;border: 1px dotted black;border-radius: 0.25em;box-sizing: border-box;margin-bottom: 0.5em;}#sk-container-id-10 div.sk-estimator:hover {background-color: #d4ebff;}#sk-container-id-10 div.sk-parallel-item::after {content: \"\";width: 100%;border-bottom: 1px solid gray;flex-grow: 1;}#sk-container-id-10 div.sk-label:hover label.sk-toggleable__label {background-color: #d4ebff;}#sk-container-id-10 div.sk-serial::before {content: \"\";position: absolute;border-left: 1px solid gray;box-sizing: border-box;top: 0;bottom: 0;left: 50%;z-index: 0;}#sk-container-id-10 div.sk-serial {display: flex;flex-direction: column;align-items: center;background-color: white;padding-right: 0.2em;padding-left: 0.2em;position: relative;}#sk-container-id-10 div.sk-item {position: relative;z-index: 1;}#sk-container-id-10 div.sk-parallel {display: flex;align-items: stretch;justify-content: center;background-color: white;position: relative;}#sk-container-id-10 div.sk-item::before, #sk-container-id-10 div.sk-parallel-item::before {content: \"\";position: absolute;border-left: 1px solid gray;box-sizing: border-box;top: 0;bottom: 0;left: 50%;z-index: -1;}#sk-container-id-10 div.sk-parallel-item {display: flex;flex-direction: column;z-index: 1;position: relative;background-color: white;}#sk-container-id-10 div.sk-parallel-item:first-child::after {align-self: flex-end;width: 50%;}#sk-container-id-10 div.sk-parallel-item:last-child::after {align-self: flex-start;width: 50%;}#sk-container-id-10 div.sk-parallel-item:only-child::after {width: 0;}#sk-container-id-10 div.sk-dashed-wrapped {border: 1px dashed gray;margin: 0 0.4em 0.5em 0.4em;box-sizing: border-box;padding-bottom: 0.4em;background-color: white;}#sk-container-id-10 div.sk-label label {font-family: monospace;font-weight: bold;display: inline-block;line-height: 1.2em;}#sk-container-id-10 div.sk-label-container {text-align: center;}#sk-container-id-10 div.sk-container {/* jupyter's `normalize.less` sets `[hidden] { display: none; }` but bootstrap.min.css set `[hidden] { display: none !important; }` so we also need the `!important` here to be able to override the default hidden behavior on the sphinx rendered scikit-learn.org. See: https://github.com/scikit-learn/scikit-learn/issues/21755 */display: inline-block !important;position: relative;}#sk-container-id-10 div.sk-text-repr-fallback {display: none;}</style><div id=\"sk-container-id-10\" class=\"sk-top-container\"><div class=\"sk-text-repr-fallback\"><pre>DecisionTreeClassifier(class_weight=&#x27;balanced&#x27;, criterion=&#x27;entropy&#x27;,\n",
       "                       random_state=123)</pre><b>In a Jupyter environment, please rerun this cell to show the HTML representation or trust the notebook. <br />On GitHub, the HTML representation is unable to render, please try loading this page with nbviewer.org.</b></div><div class=\"sk-container\" hidden><div class=\"sk-item\"><div class=\"sk-estimator sk-toggleable\"><input class=\"sk-toggleable__control sk-hidden--visually\" id=\"sk-estimator-id-10\" type=\"checkbox\" checked><label for=\"sk-estimator-id-10\" class=\"sk-toggleable__label sk-toggleable__label-arrow\">DecisionTreeClassifier</label><div class=\"sk-toggleable__content\"><pre>DecisionTreeClassifier(class_weight=&#x27;balanced&#x27;, criterion=&#x27;entropy&#x27;,\n",
       "                       random_state=123)</pre></div></div></div></div></div>"
      ],
      "text/plain": [
       "DecisionTreeClassifier(class_weight='balanced', criterion='entropy',\n",
       "                       random_state=123)"
      ]
     },
     "execution_count": 49,
     "metadata": {},
     "output_type": "execute_result"
    }
   ],
   "source": [
    "# Creación del modelo\n",
    "# ------------------------------------------------------------------------------\n",
    "modelDtree2 = DecisionTreeClassifier(\n",
    "            max_depth         = None,\n",
    "            criterion         = 'entropy',\n",
    "            random_state      = 123,\n",
    "            class_weight = 'balanced'\n",
    "          )\n",
    "\n",
    "# Entrenamiento del modelo\n",
    "# ------------------------------------------------------------------------------\n",
    "modelDtree2.fit(X_train, y_train)"
   ]
  },
  {
   "cell_type": "code",
   "execution_count": 51,
   "metadata": {},
   "outputs": [
    {
     "name": "stdout",
     "output_type": "stream",
     "text": [
      "Profundidad del árbol: 23\n",
      "Número de nodos terminales: 2669\n",
      "F1 Score: 0.7191637312912574\n"
     ]
    }
   ],
   "source": [
    "# Estructura del árbol creado\n",
    "# ------------------------------------------------------------------------------\n",
    "\n",
    "\n",
    "# fig, ax = plt.subplots(figsize=(28, 8))\n",
    "\n",
    "\n",
    "print(f\"Profundidad del árbol: {modelDtree2.get_depth()}\")\n",
    "print(f\"Número de nodos terminales: {modelDtree2.get_n_leaves()}\")\n",
    "\n",
    "# plot = plot_tree(\n",
    "#            decision_tree = modelDtree,\n",
    "#            feature_names = X.columns,\n",
    "#            class_names   = True,\n",
    "#            filled        = True,\n",
    "#            impurity      = True,\n",
    "#            fontsize      = 7,\n",
    "#            ax            = ax\n",
    "#       )\n",
    "\n",
    "# Calcular el F1 score\n",
    "y_pred2 = modelDtree2.predict(X_test)\n",
    "f1_tree2 = f1_score(y_test, y_pred2, average='weighted')\n",
    "print(\"F1 Score:\", f1_tree2)"
   ]
  },
  {
   "cell_type": "markdown",
   "metadata": {},
   "source": [
    "##### Evaluación del modelo"
   ]
  },
  {
   "cell_type": "code",
   "execution_count": 52,
   "metadata": {},
   "outputs": [
    {
     "data": {
      "image/png": "[encoded data removed]",
      "text/plain": [
       "<Figure size 640x480 with 2 Axes>"
      ]
     },
     "metadata": {},
     "output_type": "display_data"
    },
    {
     "name": "stdout",
     "output_type": "stream",
     "text": [
      "              precision    recall  f1-score   support\n",
      "\n",
      "           0       0.61      0.61      0.61       236\n",
      "           1       0.78      0.78      0.78       261\n",
      "           2       0.85      0.81      0.83       254\n",
      "           3       0.72      0.72      0.72       250\n",
      "           4       0.76      0.75      0.76       257\n",
      "           5       0.79      0.81      0.80       251\n",
      "           6       0.74      0.72      0.73       254\n",
      "           7       0.77      0.76      0.76       267\n",
      "           8       0.70      0.69      0.69       248\n",
      "           9       0.65      0.64      0.65       237\n",
      "          10       0.64      0.67      0.65       264\n",
      "          11       0.69      0.71      0.70       244\n",
      "          12       0.63      0.65      0.64       227\n",
      "\n",
      "    accuracy                           0.72      3250\n",
      "   macro avg       0.72      0.72      0.72      3250\n",
      "weighted avg       0.72      0.72      0.72      3250\n",
      "\n"
     ]
    }
   ],
   "source": [
    "# Calcular la matriz de confusión\n",
    "cm = confusion_matrix(y_test, y_pred2)\n",
    "\n",
    "# Crear la visualización de la matriz de confusión\n",
    "disp = ConfusionMatrixDisplay(confusion_matrix=cm, display_labels=np.unique(y_test))\n",
    "\n",
    "# Mostrar la visualización\n",
    "disp.plot(cmap='Blues')\n",
    "\n",
    "# Configurar el título\n",
    "plt.title('Modelo Dtree2')\n",
    "\n",
    "# Mostrar la figura\n",
    "plt.show()\n",
    "\n",
    "# Mostrar el informe de clasificación\n",
    "print(classification_report(y_test, y_pred2))"
   ]
  },
  {
   "cell_type": "markdown",
   "metadata": {},
   "source": [
    "## 7. Afinando el modelo (tuning)"
   ]
  },
  {
   "cell_type": "code",
   "execution_count": 56,
   "metadata": {},
   "outputs": [],
   "source": [
    "#Se establece las variables de entrada 'X' y la variable de salida 'y'\n",
    "\n",
    "X = d.drop(columns ='label')\n",
    "y = d['label']\n",
    "\n",
    "# la validación cruzada se realiza sobre todo el dataset\n",
    "X_Completo = X\n",
    "y_Completo = y\n"
   ]
  },
  {
   "cell_type": "code",
   "execution_count": 57,
   "metadata": {},
   "outputs": [
    {
     "data": {
      "text/html": [
       "<div>\n",
       "<style scoped>\n",
       "    .dataframe tbody tr th:only-of-type {\n",
       "        vertical-align: middle;\n",
       "    }\n",
       "\n",
       "    .dataframe tbody tr th {\n",
       "        vertical-align: top;\n",
       "    }\n",
       "\n",
       "    .dataframe thead th {\n",
       "        text-align: right;\n",
       "    }\n",
       "</style>\n",
       "<table border=\"1\" class=\"dataframe\">\n",
       "  <thead>\n",
       "    <tr style=\"text-align: right;\">\n",
       "      <th></th>\n",
       "      <th>emg_1</th>\n",
       "      <th>emg_2</th>\n",
       "      <th>emg_3</th>\n",
       "      <th>emg_4</th>\n",
       "      <th>emg_5</th>\n",
       "      <th>emg_6</th>\n",
       "      <th>emg_7</th>\n",
       "      <th>emg_8</th>\n",
       "      <th>emg_9</th>\n",
       "      <th>emg_10</th>\n",
       "    </tr>\n",
       "  </thead>\n",
       "  <tbody>\n",
       "    <tr>\n",
       "      <th>0</th>\n",
       "      <td>0.2115</td>\n",
       "      <td>0.1966</td>\n",
       "      <td>0.0405</td>\n",
       "      <td>0.0202</td>\n",
       "      <td>0.0533</td>\n",
       "      <td>0.0011</td>\n",
       "      <td>0.0004</td>\n",
       "      <td>0.0110</td>\n",
       "      <td>0.1566</td>\n",
       "      <td>0.0024</td>\n",
       "    </tr>\n",
       "    <tr>\n",
       "      <th>1</th>\n",
       "      <td>0.0504</td>\n",
       "      <td>0.0984</td>\n",
       "      <td>0.0017</td>\n",
       "      <td>0.0006</td>\n",
       "      <td>0.0035</td>\n",
       "      <td>0.0011</td>\n",
       "      <td>0.0004</td>\n",
       "      <td>0.0018</td>\n",
       "      <td>0.0006</td>\n",
       "      <td>0.0008</td>\n",
       "    </tr>\n",
       "  </tbody>\n",
       "</table>\n",
       "</div>"
      ],
      "text/plain": [
       "   emg_1  emg_2  emg_3  emg_4  emg_5  emg_6  emg_7  emg_8  emg_9  emg_10\n",
       "0 0.2115 0.1966 0.0405 0.0202 0.0533 0.0011 0.0004 0.0110 0.1566  0.0024\n",
       "1 0.0504 0.0984 0.0017 0.0006 0.0035 0.0011 0.0004 0.0018 0.0006  0.0008"
      ]
     },
     "execution_count": 57,
     "metadata": {},
     "output_type": "execute_result"
    }
   ],
   "source": [
    "#Escalar Variables númericas\n",
    "\n",
    "pd.set_option('display.float_format', lambda x: '%.4f' % x)\n",
    "\n",
    "# Se escalan los valores del dataset entrenamiento y prueba de las columnas numéricas\n",
    "X_Completo[num_vars] = scaler.fit_transform(X_Completo[num_vars])\n",
    "\n",
    "X_Completo[num_vars].head(2)"
   ]
  },
  {
   "cell_type": "markdown",
   "metadata": {},
   "source": [
    "### Podado del árbol (pruning)"
   ]
  },
  {
   "cell_type": "code",
   "execution_count": 80,
   "metadata": {},
   "outputs": [
    {
     "data": {
      "text/html": [
       "<style>#sk-container-id-18 {color: black;background-color: white;}#sk-container-id-18 pre{padding: 0;}#sk-container-id-18 div.sk-toggleable {background-color: white;}#sk-container-id-18 label.sk-toggleable__label {cursor: pointer;display: block;width: 100%;margin-bottom: 0;padding: 0.3em;box-sizing: border-box;text-align: center;}#sk-container-id-18 label.sk-toggleable__label-arrow:before {content: \"▸\";float: left;margin-right: 0.25em;color: #696969;}#sk-container-id-18 label.sk-toggleable__label-arrow:hover:before {color: black;}#sk-container-id-18 div.sk-estimator:hover label.sk-toggleable__label-arrow:before {color: black;}#sk-container-id-18 div.sk-toggleable__content {max-height: 0;max-width: 0;overflow: hidden;text-align: left;background-color: #f0f8ff;}#sk-container-id-18 div.sk-toggleable__content pre {margin: 0.2em;color: black;border-radius: 0.25em;background-color: #f0f8ff;}#sk-container-id-18 input.sk-toggleable__control:checked~div.sk-toggleable__content {max-height: 200px;max-width: 100%;overflow: auto;}#sk-container-id-18 input.sk-toggleable__control:checked~label.sk-toggleable__label-arrow:before {content: \"▾\";}#sk-container-id-18 div.sk-estimator input.sk-toggleable__control:checked~label.sk-toggleable__label {background-color: #d4ebff;}#sk-container-id-18 div.sk-label input.sk-toggleable__control:checked~label.sk-toggleable__label {background-color: #d4ebff;}#sk-container-id-18 input.sk-hidden--visually {border: 0;clip: rect(1px 1px 1px 1px);clip: rect(1px, 1px, 1px, 1px);height: 1px;margin: -1px;overflow: hidden;padding: 0;position: absolute;width: 1px;}#sk-container-id-18 div.sk-estimator {font-family: monospace;background-color: #f0f8ff;border: 1px dotted black;border-radius: 0.25em;box-sizing: border-box;margin-bottom: 0.5em;}#sk-container-id-18 div.sk-estimator:hover {background-color: #d4ebff;}#sk-container-id-18 div.sk-parallel-item::after {content: \"\";width: 100%;border-bottom: 1px solid gray;flex-grow: 1;}#sk-container-id-18 div.sk-label:hover label.sk-toggleable__label {background-color: #d4ebff;}#sk-container-id-18 div.sk-serial::before {content: \"\";position: absolute;border-left: 1px solid gray;box-sizing: border-box;top: 0;bottom: 0;left: 50%;z-index: 0;}#sk-container-id-18 div.sk-serial {display: flex;flex-direction: column;align-items: center;background-color: white;padding-right: 0.2em;padding-left: 0.2em;position: relative;}#sk-container-id-18 div.sk-item {position: relative;z-index: 1;}#sk-container-id-18 div.sk-parallel {display: flex;align-items: stretch;justify-content: center;background-color: white;position: relative;}#sk-container-id-18 div.sk-item::before, #sk-container-id-18 div.sk-parallel-item::before {content: \"\";position: absolute;border-left: 1px solid gray;box-sizing: border-box;top: 0;bottom: 0;left: 50%;z-index: -1;}#sk-container-id-18 div.sk-parallel-item {display: flex;flex-direction: column;z-index: 1;position: relative;background-color: white;}#sk-container-id-18 div.sk-parallel-item:first-child::after {align-self: flex-end;width: 50%;}#sk-container-id-18 div.sk-parallel-item:last-child::after {align-self: flex-start;width: 50%;}#sk-container-id-18 div.sk-parallel-item:only-child::after {width: 0;}#sk-container-id-18 div.sk-dashed-wrapped {border: 1px dashed gray;margin: 0 0.4em 0.5em 0.4em;box-sizing: border-box;padding-bottom: 0.4em;background-color: white;}#sk-container-id-18 div.sk-label label {font-family: monospace;font-weight: bold;display: inline-block;line-height: 1.2em;}#sk-container-id-18 div.sk-label-container {text-align: center;}#sk-container-id-18 div.sk-container {/* jupyter's `normalize.less` sets `[hidden] { display: none; }` but bootstrap.min.css set `[hidden] { display: none !important; }` so we also need the `!important` here to be able to override the default hidden behavior on the sphinx rendered scikit-learn.org. See: https://github.com/scikit-learn/scikit-learn/issues/21755 */display: inline-block !important;position: relative;}#sk-container-id-18 div.sk-text-repr-fallback {display: none;}</style><div id=\"sk-container-id-18\" class=\"sk-top-container\"><div class=\"sk-text-repr-fallback\"><pre>GridSearchCV(cv=10, estimator=DecisionTreeClassifier(random_state=123),\n",
       "             param_grid={&#x27;criterion&#x27;: [&#x27;entropy&#x27;, &#x27;gini&#x27;],\n",
       "                         &#x27;max_features&#x27;: [None, &#x27;sqrt&#x27;, &#x27;log2&#x27;],\n",
       "                         &#x27;min_samples_leaf&#x27;: [1, 2, 4],\n",
       "                         &#x27;min_samples_split&#x27;: [2, 5, 10]},\n",
       "             return_train_score=True, scoring=&#x27;accuracy&#x27;)</pre><b>In a Jupyter environment, please rerun this cell to show the HTML representation or trust the notebook. <br />On GitHub, the HTML representation is unable to render, please try loading this page with nbviewer.org.</b></div><div class=\"sk-container\" hidden><div class=\"sk-item sk-dashed-wrapped\"><div class=\"sk-label-container\"><div class=\"sk-label sk-toggleable\"><input class=\"sk-toggleable__control sk-hidden--visually\" id=\"sk-estimator-id-32\" type=\"checkbox\" ><label for=\"sk-estimator-id-32\" class=\"sk-toggleable__label sk-toggleable__label-arrow\">GridSearchCV</label><div class=\"sk-toggleable__content\"><pre>GridSearchCV(cv=10, estimator=DecisionTreeClassifier(random_state=123),\n",
       "             param_grid={&#x27;criterion&#x27;: [&#x27;entropy&#x27;, &#x27;gini&#x27;],\n",
       "                         &#x27;max_features&#x27;: [None, &#x27;sqrt&#x27;, &#x27;log2&#x27;],\n",
       "                         &#x27;min_samples_leaf&#x27;: [1, 2, 4],\n",
       "                         &#x27;min_samples_split&#x27;: [2, 5, 10]},\n",
       "             return_train_score=True, scoring=&#x27;accuracy&#x27;)</pre></div></div></div><div class=\"sk-parallel\"><div class=\"sk-parallel-item\"><div class=\"sk-item\"><div class=\"sk-label-container\"><div class=\"sk-label sk-toggleable\"><input class=\"sk-toggleable__control sk-hidden--visually\" id=\"sk-estimator-id-33\" type=\"checkbox\" ><label for=\"sk-estimator-id-33\" class=\"sk-toggleable__label sk-toggleable__label-arrow\">estimator: DecisionTreeClassifier</label><div class=\"sk-toggleable__content\"><pre>DecisionTreeClassifier(random_state=123)</pre></div></div></div><div class=\"sk-serial\"><div class=\"sk-item\"><div class=\"sk-estimator sk-toggleable\"><input class=\"sk-toggleable__control sk-hidden--visually\" id=\"sk-estimator-id-34\" type=\"checkbox\" ><label for=\"sk-estimator-id-34\" class=\"sk-toggleable__label sk-toggleable__label-arrow\">DecisionTreeClassifier</label><div class=\"sk-toggleable__content\"><pre>DecisionTreeClassifier(random_state=123)</pre></div></div></div></div></div></div></div></div></div></div>"
      ],
      "text/plain": [
       "GridSearchCV(cv=10, estimator=DecisionTreeClassifier(random_state=123),\n",
       "             param_grid={'criterion': ['entropy', 'gini'],\n",
       "                         'max_features': [None, 'sqrt', 'log2'],\n",
       "                         'min_samples_leaf': [1, 2, 4],\n",
       "                         'min_samples_split': [2, 5, 10]},\n",
       "             return_train_score=True, scoring='accuracy')"
      ]
     },
     "execution_count": 80,
     "metadata": {},
     "output_type": "execute_result"
    }
   ],
   "source": [
    "# Post pruning (const complexity pruning) por validación cruzada\n",
    "\n",
    "# El árbol se crece al máximo posible antes de aplicar el pruning\n",
    "modelTreeC= DecisionTreeClassifier(\n",
    "                            max_depth         = None,\n",
    "                            min_samples_split = 2,\n",
    "                            min_samples_leaf  = 1,\n",
    "                            random_state      = 123,\n",
    "                       )\n",
    "\n",
    "\n",
    "# Definir los parámetros para la búsqueda en la cuadrícula\n",
    "# parameters = {'ccp_alpha': np.logspace(-6, 2, 9)} # Valores entre 0.000001 y 100 en una escala logarítmica\n",
    "parameters = {\n",
    "    'criterion': ['entropy','gini'],\n",
    "    'min_samples_split': [2, 5, 10],\n",
    "    'min_samples_leaf': [1, 2, 4],\n",
    "    'max_features': [None, 'sqrt', 'log2'],\n",
    "}\n",
    "\n",
    "# Definimos las metricas sobre las que queremos evaluar\n",
    "# metricas = ['accuracy', 'f1', 'precision'] \n",
    "metricas = 'accuracy'\n",
    "\n",
    "# definicion de la variable con el número de pliegues\n",
    "CV = 10\n",
    "\n",
    "# Búsqueda por validación cruzada\n",
    "grid_TreeC = GridSearchCV(        \n",
    "        estimator =  modelTreeC,\n",
    "        param_grid = parameters,\n",
    "        scoring    = metricas,\n",
    "        cv         = CV,\n",
    "        refit      = True,\n",
    "        return_train_score = True\n",
    "        \n",
    "      )\n",
    "\n",
    "grid_TreeC.fit(X_Completo, y_Completo)"
   ]
  },
  {
   "cell_type": "code",
   "execution_count": 65,
   "metadata": {},
   "outputs": [],
   "source": [
    "#fig, ax = plt.subplots(figsize=(6, 3.84))\n",
    "#scores = pd.DataFrame(grid_TreeC.cv_results_)\n",
    "\n",
    "# Variacion de ccp_alpha\n",
    "#ax.set_xscale('log')\n",
    "#scores.plot(x='param_ccp_alpha', y='mean_test_score', yerr='std_test_score', ax=ax)\n",
    "#scores.plot(x='param_ccp_alpha', y='mean_test_score',  ax=ax)\n",
    "#ax.set_title(\"Error de validacion cruzada vs hiperparámetro ccp_alpha\");"
   ]
  },
  {
   "cell_type": "code",
   "execution_count": 81,
   "metadata": {},
   "outputs": [
    {
     "data": {
      "text/html": [
       "<div>\n",
       "<style scoped>\n",
       "    .dataframe tbody tr th:only-of-type {\n",
       "        vertical-align: middle;\n",
       "    }\n",
       "\n",
       "    .dataframe tbody tr th {\n",
       "        vertical-align: top;\n",
       "    }\n",
       "\n",
       "    .dataframe thead th {\n",
       "        text-align: right;\n",
       "    }\n",
       "</style>\n",
       "<table border=\"1\" class=\"dataframe\">\n",
       "  <thead>\n",
       "    <tr style=\"text-align: right;\">\n",
       "      <th></th>\n",
       "      <th>param_criterion</th>\n",
       "      <th>param_max_features</th>\n",
       "      <th>param_min_samples_leaf</th>\n",
       "      <th>param_min_samples_split</th>\n",
       "      <th>mean_test_score</th>\n",
       "      <th>std_test_score</th>\n",
       "      <th>mean_train_score</th>\n",
       "      <th>std_train_score</th>\n",
       "    </tr>\n",
       "  </thead>\n",
       "  <tbody>\n",
       "    <tr>\n",
       "      <th>0</th>\n",
       "      <td>entropy</td>\n",
       "      <td>None</td>\n",
       "      <td>1</td>\n",
       "      <td>2</td>\n",
       "      <td>0.7240</td>\n",
       "      <td>0.0083</td>\n",
       "      <td>1.0000</td>\n",
       "      <td>0.0000</td>\n",
       "    </tr>\n",
       "    <tr>\n",
       "      <th>1</th>\n",
       "      <td>entropy</td>\n",
       "      <td>None</td>\n",
       "      <td>1</td>\n",
       "      <td>5</td>\n",
       "      <td>0.7161</td>\n",
       "      <td>0.0105</td>\n",
       "      <td>0.9579</td>\n",
       "      <td>0.0016</td>\n",
       "    </tr>\n",
       "    <tr>\n",
       "      <th>3</th>\n",
       "      <td>entropy</td>\n",
       "      <td>None</td>\n",
       "      <td>2</td>\n",
       "      <td>2</td>\n",
       "      <td>0.7101</td>\n",
       "      <td>0.0093</td>\n",
       "      <td>0.9431</td>\n",
       "      <td>0.0011</td>\n",
       "    </tr>\n",
       "    <tr>\n",
       "      <th>4</th>\n",
       "      <td>entropy</td>\n",
       "      <td>None</td>\n",
       "      <td>2</td>\n",
       "      <td>5</td>\n",
       "      <td>0.7100</td>\n",
       "      <td>0.0073</td>\n",
       "      <td>0.9356</td>\n",
       "      <td>0.0012</td>\n",
       "    </tr>\n",
       "    <tr>\n",
       "      <th>27</th>\n",
       "      <td>gini</td>\n",
       "      <td>None</td>\n",
       "      <td>1</td>\n",
       "      <td>2</td>\n",
       "      <td>0.7070</td>\n",
       "      <td>0.0094</td>\n",
       "      <td>1.0000</td>\n",
       "      <td>0.0000</td>\n",
       "    </tr>\n",
       "    <tr>\n",
       "      <th>5</th>\n",
       "      <td>entropy</td>\n",
       "      <td>None</td>\n",
       "      <td>2</td>\n",
       "      <td>10</td>\n",
       "      <td>0.6985</td>\n",
       "      <td>0.0064</td>\n",
       "      <td>0.8905</td>\n",
       "      <td>0.0020</td>\n",
       "    </tr>\n",
       "    <tr>\n",
       "      <th>2</th>\n",
       "      <td>entropy</td>\n",
       "      <td>None</td>\n",
       "      <td>1</td>\n",
       "      <td>10</td>\n",
       "      <td>0.6985</td>\n",
       "      <td>0.0056</td>\n",
       "      <td>0.9012</td>\n",
       "      <td>0.0018</td>\n",
       "    </tr>\n",
       "    <tr>\n",
       "      <th>28</th>\n",
       "      <td>gini</td>\n",
       "      <td>None</td>\n",
       "      <td>1</td>\n",
       "      <td>5</td>\n",
       "      <td>0.6966</td>\n",
       "      <td>0.0072</td>\n",
       "      <td>0.9483</td>\n",
       "      <td>0.0016</td>\n",
       "    </tr>\n",
       "    <tr>\n",
       "      <th>7</th>\n",
       "      <td>entropy</td>\n",
       "      <td>None</td>\n",
       "      <td>4</td>\n",
       "      <td>5</td>\n",
       "      <td>0.6959</td>\n",
       "      <td>0.0081</td>\n",
       "      <td>0.8830</td>\n",
       "      <td>0.0018</td>\n",
       "    </tr>\n",
       "    <tr>\n",
       "      <th>6</th>\n",
       "      <td>entropy</td>\n",
       "      <td>None</td>\n",
       "      <td>4</td>\n",
       "      <td>2</td>\n",
       "      <td>0.6959</td>\n",
       "      <td>0.0081</td>\n",
       "      <td>0.8830</td>\n",
       "      <td>0.0018</td>\n",
       "    </tr>\n",
       "  </tbody>\n",
       "</table>\n",
       "</div>"
      ],
      "text/plain": [
       "   param_criterion param_max_features param_min_samples_leaf  \\\n",
       "0          entropy               None                      1   \n",
       "1          entropy               None                      1   \n",
       "3          entropy               None                      2   \n",
       "4          entropy               None                      2   \n",
       "27            gini               None                      1   \n",
       "5          entropy               None                      2   \n",
       "2          entropy               None                      1   \n",
       "28            gini               None                      1   \n",
       "7          entropy               None                      4   \n",
       "6          entropy               None                      4   \n",
       "\n",
       "   param_min_samples_split  mean_test_score  std_test_score  mean_train_score  \\\n",
       "0                        2           0.7240          0.0083            1.0000   \n",
       "1                        5           0.7161          0.0105            0.9579   \n",
       "3                        2           0.7101          0.0093            0.9431   \n",
       "4                        5           0.7100          0.0073            0.9356   \n",
       "27                       2           0.7070          0.0094            1.0000   \n",
       "5                       10           0.6985          0.0064            0.8905   \n",
       "2                       10           0.6985          0.0056            0.9012   \n",
       "28                       5           0.6966          0.0072            0.9483   \n",
       "7                        5           0.6959          0.0081            0.8830   \n",
       "6                        2           0.6959          0.0081            0.8830   \n",
       "\n",
       "    std_train_score  \n",
       "0            0.0000  \n",
       "1            0.0016  \n",
       "3            0.0011  \n",
       "4            0.0012  \n",
       "27           0.0000  \n",
       "5            0.0020  \n",
       "2            0.0018  \n",
       "28           0.0016  \n",
       "7            0.0018  \n",
       "6            0.0018  "
      ]
     },
     "execution_count": 81,
     "metadata": {},
     "output_type": "execute_result"
    }
   ],
   "source": [
    "# Resultados\n",
    "# ==============================================================================\n",
    "resultados = pd.DataFrame(grid_TreeC.cv_results_)\n",
    "resultados.filter(regex = '(param*|mean_t|std_t)') \\\n",
    "    .drop(columns = 'params') \\\n",
    "    .sort_values('mean_test_score', ascending = False) \\\n",
    "    .head(10)"
   ]
  },
  {
   "cell_type": "code",
   "execution_count": 82,
   "metadata": {},
   "outputs": [
    {
     "data": {
      "text/plain": [
       "{'criterion': 'entropy',\n",
       " 'max_features': None,\n",
       " 'min_samples_leaf': 1,\n",
       " 'min_samples_split': 2}"
      ]
     },
     "execution_count": 82,
     "metadata": {},
     "output_type": "execute_result"
    }
   ],
   "source": [
    "# Mejor valor ccp_alpha encontrado\n",
    "# ------------------------------------------------------------------------------\n",
    "grid_TreeC.best_params_"
   ]
  },
  {
   "cell_type": "code",
   "execution_count": 84,
   "metadata": {},
   "outputs": [
    {
     "name": "stdout",
     "output_type": "stream",
     "text": [
      "Profundidad del árbol: 20\n",
      "Número de nodos terminales: 2920\n",
      "Score: 0.724\n"
     ]
    }
   ],
   "source": [
    "# Estructura del árbol final\n",
    "# ------------------------------------------------------------------------------\n",
    "modelDtree = grid_TreeC.best_estimator_\n",
    "print(f\"Profundidad del árbol: {modelDtree.get_depth()}\")\n",
    "print(f\"Número de nodos terminales: {modelDtree.get_n_leaves()}\")\n",
    "print(f\"Score: {grid_TreeC.best_score_}\")"
   ]
  },
  {
   "cell_type": "code",
   "execution_count": 36,
   "metadata": {},
   "outputs": [
    {
     "data": {
      "text/html": [
       "<style>#sk-container-id-5 {color: black;background-color: white;}#sk-container-id-5 pre{padding: 0;}#sk-container-id-5 div.sk-toggleable {background-color: white;}#sk-container-id-5 label.sk-toggleable__label {cursor: pointer;display: block;width: 100%;margin-bottom: 0;padding: 0.3em;box-sizing: border-box;text-align: center;}#sk-container-id-5 label.sk-toggleable__label-arrow:before {content: \"▸\";float: left;margin-right: 0.25em;color: #696969;}#sk-container-id-5 label.sk-toggleable__label-arrow:hover:before {color: black;}#sk-container-id-5 div.sk-estimator:hover label.sk-toggleable__label-arrow:before {color: black;}#sk-container-id-5 div.sk-toggleable__content {max-height: 0;max-width: 0;overflow: hidden;text-align: left;background-color: #f0f8ff;}#sk-container-id-5 div.sk-toggleable__content pre {margin: 0.2em;color: black;border-radius: 0.25em;background-color: #f0f8ff;}#sk-container-id-5 input.sk-toggleable__control:checked~div.sk-toggleable__content {max-height: 200px;max-width: 100%;overflow: auto;}#sk-container-id-5 input.sk-toggleable__control:checked~label.sk-toggleable__label-arrow:before {content: \"▾\";}#sk-container-id-5 div.sk-estimator input.sk-toggleable__control:checked~label.sk-toggleable__label {background-color: #d4ebff;}#sk-container-id-5 div.sk-label input.sk-toggleable__control:checked~label.sk-toggleable__label {background-color: #d4ebff;}#sk-container-id-5 input.sk-hidden--visually {border: 0;clip: rect(1px 1px 1px 1px);clip: rect(1px, 1px, 1px, 1px);height: 1px;margin: -1px;overflow: hidden;padding: 0;position: absolute;width: 1px;}#sk-container-id-5 div.sk-estimator {font-family: monospace;background-color: #f0f8ff;border: 1px dotted black;border-radius: 0.25em;box-sizing: border-box;margin-bottom: 0.5em;}#sk-container-id-5 div.sk-estimator:hover {background-color: #d4ebff;}#sk-container-id-5 div.sk-parallel-item::after {content: \"\";width: 100%;border-bottom: 1px solid gray;flex-grow: 1;}#sk-container-id-5 div.sk-label:hover label.sk-toggleable__label {background-color: #d4ebff;}#sk-container-id-5 div.sk-serial::before {content: \"\";position: absolute;border-left: 1px solid gray;box-sizing: border-box;top: 0;bottom: 0;left: 50%;z-index: 0;}#sk-container-id-5 div.sk-serial {display: flex;flex-direction: column;align-items: center;background-color: white;padding-right: 0.2em;padding-left: 0.2em;position: relative;}#sk-container-id-5 div.sk-item {position: relative;z-index: 1;}#sk-container-id-5 div.sk-parallel {display: flex;align-items: stretch;justify-content: center;background-color: white;position: relative;}#sk-container-id-5 div.sk-item::before, #sk-container-id-5 div.sk-parallel-item::before {content: \"\";position: absolute;border-left: 1px solid gray;box-sizing: border-box;top: 0;bottom: 0;left: 50%;z-index: -1;}#sk-container-id-5 div.sk-parallel-item {display: flex;flex-direction: column;z-index: 1;position: relative;background-color: white;}#sk-container-id-5 div.sk-parallel-item:first-child::after {align-self: flex-end;width: 50%;}#sk-container-id-5 div.sk-parallel-item:last-child::after {align-self: flex-start;width: 50%;}#sk-container-id-5 div.sk-parallel-item:only-child::after {width: 0;}#sk-container-id-5 div.sk-dashed-wrapped {border: 1px dashed gray;margin: 0 0.4em 0.5em 0.4em;box-sizing: border-box;padding-bottom: 0.4em;background-color: white;}#sk-container-id-5 div.sk-label label {font-family: monospace;font-weight: bold;display: inline-block;line-height: 1.2em;}#sk-container-id-5 div.sk-label-container {text-align: center;}#sk-container-id-5 div.sk-container {/* jupyter's `normalize.less` sets `[hidden] { display: none; }` but bootstrap.min.css set `[hidden] { display: none !important; }` so we also need the `!important` here to be able to override the default hidden behavior on the sphinx rendered scikit-learn.org. See: https://github.com/scikit-learn/scikit-learn/issues/21755 */display: inline-block !important;position: relative;}#sk-container-id-5 div.sk-text-repr-fallback {display: none;}</style><div id=\"sk-container-id-5\" class=\"sk-top-container\"><div class=\"sk-text-repr-fallback\"><pre>DecisionTreeClassifier(ccp_alpha=1e-06, random_state=123)</pre><b>In a Jupyter environment, please rerun this cell to show the HTML representation or trust the notebook. <br />On GitHub, the HTML representation is unable to render, please try loading this page with nbviewer.org.</b></div><div class=\"sk-container\" hidden><div class=\"sk-item\"><div class=\"sk-estimator sk-toggleable\"><input class=\"sk-toggleable__control sk-hidden--visually\" id=\"sk-estimator-id-7\" type=\"checkbox\" checked><label for=\"sk-estimator-id-7\" class=\"sk-toggleable__label sk-toggleable__label-arrow\">DecisionTreeClassifier</label><div class=\"sk-toggleable__content\"><pre>DecisionTreeClassifier(ccp_alpha=1e-06, random_state=123)</pre></div></div></div></div></div>"
      ],
      "text/plain": [
       "DecisionTreeClassifier(ccp_alpha=1e-06, random_state=123)"
      ]
     },
     "execution_count": 36,
     "metadata": {},
     "output_type": "execute_result"
    }
   ],
   "source": [
    "# Creación del modelo\n",
    "# ------------------------------------------------------------------------------\n",
    "modelDtree = DecisionTreeClassifier(\n",
    "            ccp_alpha         = grid_TreeC.best_params_[\"ccp_alpha\"],\n",
    "            random_state      = 123\n",
    "          )\n",
    "\n",
    "# Entrenamiento del modelo\n",
    "# ------------------------------------------------------------------------------\n",
    "modelDtree.fit(X_Completo, y_Completo)"
   ]
  },
  {
   "cell_type": "markdown",
   "metadata": {},
   "source": [
    "### Guardar modelo"
   ]
  },
  {
   "cell_type": "code",
   "execution_count": 85,
   "metadata": {},
   "outputs": [
    {
     "data": {
      "text/plain": [
       "['./modelos/clasificacion/DTreeC_CV.pkl']"
      ]
     },
     "execution_count": 85,
     "metadata": {},
     "output_type": "execute_result"
    }
   ],
   "source": [
    "#Se guarda el modelo de Árbol de decisión\n",
    "joblib.dump(modelDtree, './modelos/clasificacion/DTreeC_CV.pkl')"
   ]
  },
  {
   "cell_type": "markdown",
   "metadata": {},
   "source": [
    "## 7. Importancia de predictores"
   ]
  },
  {
   "cell_type": "markdown",
   "metadata": {},
   "source": [
    "### Importancia por pureza de nodos"
   ]
  },
  {
   "cell_type": "code",
   "execution_count": 86,
   "metadata": {},
   "outputs": [
    {
     "name": "stdout",
     "output_type": "stream",
     "text": [
      "Importancia de los predictores en el modelo\n",
      "-------------------------------------------\n"
     ]
    },
    {
     "data": {
      "text/html": [
       "<div>\n",
       "<style scoped>\n",
       "    .dataframe tbody tr th:only-of-type {\n",
       "        vertical-align: middle;\n",
       "    }\n",
       "\n",
       "    .dataframe tbody tr th {\n",
       "        vertical-align: top;\n",
       "    }\n",
       "\n",
       "    .dataframe thead th {\n",
       "        text-align: right;\n",
       "    }\n",
       "</style>\n",
       "<table border=\"1\" class=\"dataframe\">\n",
       "  <thead>\n",
       "    <tr style=\"text-align: right;\">\n",
       "      <th></th>\n",
       "      <th>predictor</th>\n",
       "      <th>importancia</th>\n",
       "    </tr>\n",
       "  </thead>\n",
       "  <tbody>\n",
       "    <tr>\n",
       "      <th>0</th>\n",
       "      <td>emg_1</td>\n",
       "      <td>0.1232</td>\n",
       "    </tr>\n",
       "    <tr>\n",
       "      <th>8</th>\n",
       "      <td>emg_9</td>\n",
       "      <td>0.1184</td>\n",
       "    </tr>\n",
       "    <tr>\n",
       "      <th>6</th>\n",
       "      <td>emg_7</td>\n",
       "      <td>0.1155</td>\n",
       "    </tr>\n",
       "    <tr>\n",
       "      <th>9</th>\n",
       "      <td>emg_10</td>\n",
       "      <td>0.1153</td>\n",
       "    </tr>\n",
       "    <tr>\n",
       "      <th>7</th>\n",
       "      <td>emg_8</td>\n",
       "      <td>0.1152</td>\n",
       "    </tr>\n",
       "    <tr>\n",
       "      <th>2</th>\n",
       "      <td>emg_3</td>\n",
       "      <td>0.0997</td>\n",
       "    </tr>\n",
       "    <tr>\n",
       "      <th>1</th>\n",
       "      <td>emg_2</td>\n",
       "      <td>0.0996</td>\n",
       "    </tr>\n",
       "    <tr>\n",
       "      <th>5</th>\n",
       "      <td>emg_6</td>\n",
       "      <td>0.0910</td>\n",
       "    </tr>\n",
       "    <tr>\n",
       "      <th>3</th>\n",
       "      <td>emg_4</td>\n",
       "      <td>0.0733</td>\n",
       "    </tr>\n",
       "    <tr>\n",
       "      <th>4</th>\n",
       "      <td>emg_5</td>\n",
       "      <td>0.0489</td>\n",
       "    </tr>\n",
       "  </tbody>\n",
       "</table>\n",
       "</div>"
      ],
      "text/plain": [
       "  predictor  importancia\n",
       "0     emg_1       0.1232\n",
       "8     emg_9       0.1184\n",
       "6     emg_7       0.1155\n",
       "9    emg_10       0.1153\n",
       "7     emg_8       0.1152\n",
       "2     emg_3       0.0997\n",
       "1     emg_2       0.0996\n",
       "5     emg_6       0.0910\n",
       "3     emg_4       0.0733\n",
       "4     emg_5       0.0489"
      ]
     },
     "execution_count": 86,
     "metadata": {},
     "output_type": "execute_result"
    }
   ],
   "source": [
    "print(\"Importancia de los predictores en el modelo\")\n",
    "print(\"-------------------------------------------\")\n",
    "importancia_predictores = pd.DataFrame(\n",
    "                            {'predictor': X.columns,\n",
    "                             'importancia': modelDtree.feature_importances_}\n",
    "                            )\n",
    "importancia_predictores.sort_values('importancia', ascending=False).head(10)"
   ]
  },
  {
   "cell_type": "markdown",
   "metadata": {},
   "source": [
    "## Conclusiones\n",
    "\n",
    "To Do..."
   ]
  },
  {
   "cell_type": "markdown",
   "metadata": {
    "id": "1zXB7bOYwXe6"
   },
   "source": [
    "#### Referencias\n",
    "\n",
    "\n",
    "- Áboles de decisión\n",
    "    - https://www.aprendemachinelearning.com/arbol-de-decision-en-python-clasificacion-y-prediccion/\n",
    "    - https://www.cienciadedatos.net/documentos/py07_arboles_decision_python.html\n",
    "    - https://www.datacamp.com/es/tutorial/decision-tree-classification-python"
   ]
  }
 ],
 "metadata": {
  "colab": {
   "collapsed_sections": [
    "1zXB7bOYwXe6"
   ],
   "name": "04_3_RegresionLogistica.ipynb",
   "provenance": []
  },
  "kernelspec": {
   "display_name": "Python 3",
   "language": "python",
   "name": "python3"
  },
  "language_info": {
   "codemirror_mode": {
    "name": "ipython",
    "version": 3
   },
   "file_extension": ".py",
   "mimetype": "text/x-python",
   "name": "python",
   "nbconvert_exporter": "python",
   "pygments_lexer": "ipython3",
   "version": "3.9.13"
  }
 },
 "nbformat": 4,
 "nbformat_minor": 1
}
