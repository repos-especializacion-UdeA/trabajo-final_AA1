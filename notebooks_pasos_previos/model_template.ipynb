{
  "cells": [
    {
      "cell_type": "markdown",
      "metadata": {},
      "source": [
        "[![Open in Colab](https://colab.research.google.com/assets/colab-badge.svg)](https://colab.research.google.com/github/repos-especializacion-UdeA/trabajo-final_AA1/blob/main/notebooks_pasos_previos/merge_databases.ipynb)"
      ]
    },
    {
      "cell_type": "markdown",
      "metadata": {
        "id": "pcTBB7Xloswp"
      },
      "source": [
        "# Combinación de todas las bases de datos\n",
        "\n",
        "El siguiente notebook explora de manera sencilla un archivo de matlab donde se guarda la información de un sensor."
      ]
    },
    {
      "cell_type": "code",
      "execution_count": 1,
      "metadata": {},
      "outputs": [],
      "source": [
        "try:\n",
        "    import scipy.io\n",
        "except ImportError:\n",
        "    !pip install scipy"
      ]
    },
    {
      "cell_type": "markdown",
      "metadata": {},
      "source": [
        "## 1. Librerias y configuraciones previas"
      ]
    },
    {
      "cell_type": "code",
      "execution_count": 2,
      "metadata": {},
      "outputs": [
        {
          "name": "stdout",
          "output_type": "stream",
          "text": [
            ".\n",
            "El notebook no se está ejecutando en Google Colab.\n"
          ]
        }
      ],
      "source": [
        "import sys\n",
        "import os\n",
        "\n",
        "# Get the absolute path of the current notebook\n",
        "notebook_path = \".\"\n",
        "print(notebook_path)\n",
        "try:\n",
        "    import google.colab\n",
        "    !git clone https://github.com/repos-especializacion-UdeA/trabajo-final_AA1.git\n",
        "    %cd /content/trabajo-final_AA1/notebooks_pasos_previos   \n",
        "    %pwd\n",
        "    ruta_base = '/content/trabajo-final_AA1/notebooks_pasos_previos/'\n",
        "    sys.path.append(ruta_base)\n",
        "except ImportError:\n",
        "    print(\"El notebook no se está ejecutando en Google Colab.\")\n",
        "    ruta_base = './'"
      ]
    },
    {
      "cell_type": "code",
      "execution_count": 3,
      "metadata": {},
      "outputs": [],
      "source": [
        "# Tratamiento de datos\n",
        "# ==============================================================================\n",
        "import pandas as pd\n",
        "import numpy as np\n",
        "\n",
        "# Almacenar en caché los resultados de funciones en el disco\n",
        "# ==============================================================================\n",
        "import joblib\n",
        "\n",
        "\n",
        "# Gestion de librerias\n",
        "# ==============================================================================\n",
        "from importlib import reload\n",
        "\n",
        "# Matemáticas y estadísticas\n",
        "# ==============================================================================\n",
        "import math\n",
        "\n",
        "# Gráficos\n",
        "# ==============================================================================\n",
        "import matplotlib.pyplot as plt\n",
        "from matplotlib import style\n",
        "import seaborn as sns\n",
        "\n",
        "\n",
        "# Configuración warnings\n",
        "# ==============================================================================\n",
        "import warnings\n",
        "warnings.filterwarnings('ignore')\n",
        "\n",
        "# Formateo y estilo\n",
        "# ==============================================================================\n",
        "from IPython.display import Markdown, display\n",
        "\n",
        "# Biblioteca scipy y componentes\n",
        "# ==============================================================================\n",
        "import scipy.io\n",
        "from scipy import signal"
      ]
    },
    {
      "cell_type": "markdown",
      "metadata": {},
      "source": [
        "## 2. Funciones"
      ]
    },
    {
      "cell_type": "code",
      "execution_count": 4,
      "metadata": {},
      "outputs": [],
      "source": [
        "# Funciones externas\n",
        "# ==============================================================================\n",
        "from utils.funciones1 import multiple_plot\n",
        "from utils.funciones2 import test_hola, graficar_medida, graficar_medida2, filter_signal, \\\n",
        "                             segmentar_data_base, aplanar_data_base, aplanar_ventana"
      ]
    },
    {
      "cell_type": "code",
      "execution_count": 5,
      "metadata": {},
      "outputs": [
        {
          "name": "stdout",
          "output_type": "stream",
          "text": [
            "Hola amigos\n"
          ]
        }
      ],
      "source": [
        "test_hola()"
      ]
    },
    {
      "cell_type": "markdown",
      "metadata": {},
      "source": [
        "## 3. Carga del dataset"
      ]
    },
    {
      "cell_type": "code",
      "execution_count": 6,
      "metadata": {},
      "outputs": [],
      "source": [
        "DATA_PATH = \"./datasets/\"\n",
        "\n",
        "archivos_mat = ['S1_A1_E1.mat', \n",
        "         'S2_A1_E1.mat', \n",
        "         'S3_A1_E1.mat', \n",
        "         'S4_A1_E1.mat', \n",
        "         'S5_A1_E1.mat', \n",
        "         'S6_A1_E1.mat', \n",
        "         'S7_A1_E1.mat', \n",
        "         'S8_A1_E1.mat', \n",
        "         'S9_A1_E1.mat', \n",
        "         'S10_A1_E1.mat', \n",
        "         'S11_A1_E1.mat', \n",
        "         'S12_A1_E1.mat', \n",
        "         'S13_A1_E1.mat', \n",
        "         'S14_A1_E1.mat', \n",
        "         'S15_A1_E1.mat', \n",
        "         'S16_A1_E1.mat', \n",
        "         'S17_A1_E1.mat', \n",
        "         'S18_A1_E1.mat', \n",
        "         'S19_A1_E1.mat', \n",
        "         'S20_A1_E1.mat', \n",
        "         'S21_A1_E1.mat', \n",
        "         'S22_A1_E1.mat', \n",
        "         'S23_A1_E1.mat', \n",
        "         'S24_A1_E1.mat', \n",
        "         'S25_A1_E1.mat', \n",
        "         'S26_A1_E1.mat',\n",
        "         'S27_A1_E1.mat']"
      ]
    },
    {
      "cell_type": "markdown",
      "metadata": {},
      "source": [
        "Carga de cada una de las bases de datos asociadas a los sugetos y combinación en una sola."
      ]
    },
    {
      "cell_type": "code",
      "execution_count": 7,
      "metadata": {
        "colab": {
          "base_uri": "https://localhost:8080/"
        },
        "id": "cvOUYvL4qmNX",
        "outputId": "b203dc2d-3dce-4e06-b100-24af396866f1"
      },
      "outputs": [],
      "source": [
        "## Carga de la base de datos\n",
        "data_base = pd.DataFrame()\n",
        "\n",
        "for i in range(len(archivos_mat)):\n",
        "    ruta_archivo_mat = DATA_PATH = \"./datasets/\" + archivos_mat[i]\n",
        "    archivo_mat = scipy.io.loadmat(ruta_archivo_mat)\n",
        "    # Obtencion de las columnas de interes\n",
        "    df_emg = pd.DataFrame(archivo_mat['emg'])\n",
        "    df_emg.columns = ['emg_' + str(col + 1) for col in df_emg.columns]\n",
        "    df_restimulus = pd.DataFrame(archivo_mat['restimulus'])\n",
        "    df_restimulus.rename(columns={0: 'label'}, inplace= True)\n",
        "    df_repetition = pd.DataFrame(archivo_mat['rerepetition'])\n",
        "    df_repetition.rename(columns={0: 'rep'},inplace= True)\n",
        "    df_subject = pd.DataFrame({'s': [i + 1] * df_repetition.shape[0]}, dtype='int8')\n",
        "    df_subject =  pd.concat([df_subject, df_emg, df_repetition, df_restimulus], axis=1)\n",
        "    # print(f\"Muestras sujeto {i + 1}: {df_subject.shape[0]}\")\n",
        "    data_base = pd.concat([data_base, df_subject], ignore_index=True)"
      ]
    },
    {
      "cell_type": "markdown",
      "metadata": {},
      "source": [
        "## Informacion de la base de datos"
      ]
    },
    {
      "cell_type": "code",
      "execution_count": 8,
      "metadata": {},
      "outputs": [
        {
          "name": "stdout",
          "output_type": "stream",
          "text": [
            "<class 'pandas.core.frame.DataFrame'>\n",
            "RangeIndex: 2731393 entries, 0 to 2731392\n",
            "Data columns (total 13 columns):\n",
            " #   Column  Dtype  \n",
            "---  ------  -----  \n",
            " 0   s       int8   \n",
            " 1   emg_1   float64\n",
            " 2   emg_2   float64\n",
            " 3   emg_3   float64\n",
            " 4   emg_4   float64\n",
            " 5   emg_5   float64\n",
            " 6   emg_6   float64\n",
            " 7   emg_7   float64\n",
            " 8   emg_8   float64\n",
            " 9   emg_9   float64\n",
            " 10  emg_10  float64\n",
            " 11  rep     uint8  \n",
            " 12  label   uint8  \n",
            "dtypes: float64(10), int8(1), uint8(2)\n",
            "memory usage: 216.2 MB\n"
          ]
        }
      ],
      "source": [
        "data_base.info()"
      ]
    },
    {
      "cell_type": "markdown",
      "metadata": {},
      "source": [
        "### Contenido de los primeros registros del dataframe"
      ]
    },
    {
      "cell_type": "code",
      "execution_count": 9,
      "metadata": {},
      "outputs": [
        {
          "data": {
            "text/html": [
              "<div>\n",
              "<style scoped>\n",
              "    .dataframe tbody tr th:only-of-type {\n",
              "        vertical-align: middle;\n",
              "    }\n",
              "\n",
              "    .dataframe tbody tr th {\n",
              "        vertical-align: top;\n",
              "    }\n",
              "\n",
              "    .dataframe thead th {\n",
              "        text-align: right;\n",
              "    }\n",
              "</style>\n",
              "<table border=\"1\" class=\"dataframe\">\n",
              "  <thead>\n",
              "    <tr style=\"text-align: right;\">\n",
              "      <th></th>\n",
              "      <th>s</th>\n",
              "      <th>emg_1</th>\n",
              "      <th>emg_2</th>\n",
              "      <th>emg_3</th>\n",
              "      <th>emg_4</th>\n",
              "      <th>emg_5</th>\n",
              "      <th>emg_6</th>\n",
              "      <th>emg_7</th>\n",
              "      <th>emg_8</th>\n",
              "      <th>emg_9</th>\n",
              "      <th>emg_10</th>\n",
              "      <th>rep</th>\n",
              "      <th>label</th>\n",
              "    </tr>\n",
              "  </thead>\n",
              "  <tbody>\n",
              "    <tr>\n",
              "      <th>0</th>\n",
              "      <td>1</td>\n",
              "      <td>0.0684</td>\n",
              "      <td>0.0024</td>\n",
              "      <td>0.0024</td>\n",
              "      <td>0.0024</td>\n",
              "      <td>0.0024</td>\n",
              "      <td>0.0098</td>\n",
              "      <td>0.0024</td>\n",
              "      <td>0.0488</td>\n",
              "      <td>0.0024</td>\n",
              "      <td>0.0342</td>\n",
              "      <td>0</td>\n",
              "      <td>0</td>\n",
              "    </tr>\n",
              "    <tr>\n",
              "      <th>1</th>\n",
              "      <td>1</td>\n",
              "      <td>0.0586</td>\n",
              "      <td>0.0024</td>\n",
              "      <td>0.0024</td>\n",
              "      <td>0.0024</td>\n",
              "      <td>0.0024</td>\n",
              "      <td>0.0049</td>\n",
              "      <td>0.0024</td>\n",
              "      <td>0.0415</td>\n",
              "      <td>0.0024</td>\n",
              "      <td>0.0293</td>\n",
              "      <td>0</td>\n",
              "      <td>0</td>\n",
              "    </tr>\n",
              "    <tr>\n",
              "      <th>2</th>\n",
              "      <td>1</td>\n",
              "      <td>0.0562</td>\n",
              "      <td>0.0024</td>\n",
              "      <td>0.0024</td>\n",
              "      <td>0.0024</td>\n",
              "      <td>0.0024</td>\n",
              "      <td>0.0049</td>\n",
              "      <td>0.0024</td>\n",
              "      <td>0.0391</td>\n",
              "      <td>0.0024</td>\n",
              "      <td>0.0244</td>\n",
              "      <td>0</td>\n",
              "      <td>0</td>\n",
              "    </tr>\n",
              "    <tr>\n",
              "      <th>3</th>\n",
              "      <td>1</td>\n",
              "      <td>0.0562</td>\n",
              "      <td>0.0024</td>\n",
              "      <td>0.0024</td>\n",
              "      <td>0.0024</td>\n",
              "      <td>0.0024</td>\n",
              "      <td>0.0049</td>\n",
              "      <td>0.0024</td>\n",
              "      <td>0.0342</td>\n",
              "      <td>0.0024</td>\n",
              "      <td>0.0171</td>\n",
              "      <td>0</td>\n",
              "      <td>0</td>\n",
              "    </tr>\n",
              "    <tr>\n",
              "      <th>4</th>\n",
              "      <td>1</td>\n",
              "      <td>0.0488</td>\n",
              "      <td>0.0024</td>\n",
              "      <td>0.0024</td>\n",
              "      <td>0.0024</td>\n",
              "      <td>0.0024</td>\n",
              "      <td>0.0024</td>\n",
              "      <td>0.0024</td>\n",
              "      <td>0.0366</td>\n",
              "      <td>0.0024</td>\n",
              "      <td>0.0146</td>\n",
              "      <td>0</td>\n",
              "      <td>0</td>\n",
              "    </tr>\n",
              "    <tr>\n",
              "      <th>5</th>\n",
              "      <td>1</td>\n",
              "      <td>0.0488</td>\n",
              "      <td>0.0024</td>\n",
              "      <td>0.0024</td>\n",
              "      <td>0.0024</td>\n",
              "      <td>0.0024</td>\n",
              "      <td>0.0024</td>\n",
              "      <td>0.0024</td>\n",
              "      <td>0.0366</td>\n",
              "      <td>0.0024</td>\n",
              "      <td>0.0098</td>\n",
              "      <td>0</td>\n",
              "      <td>0</td>\n",
              "    </tr>\n",
              "    <tr>\n",
              "      <th>6</th>\n",
              "      <td>1</td>\n",
              "      <td>0.0439</td>\n",
              "      <td>0.0024</td>\n",
              "      <td>0.0024</td>\n",
              "      <td>0.0024</td>\n",
              "      <td>0.0024</td>\n",
              "      <td>0.0024</td>\n",
              "      <td>0.0024</td>\n",
              "      <td>0.0366</td>\n",
              "      <td>0.0024</td>\n",
              "      <td>0.0098</td>\n",
              "      <td>0</td>\n",
              "      <td>0</td>\n",
              "    </tr>\n",
              "    <tr>\n",
              "      <th>7</th>\n",
              "      <td>1</td>\n",
              "      <td>0.0464</td>\n",
              "      <td>0.0024</td>\n",
              "      <td>0.0024</td>\n",
              "      <td>0.0024</td>\n",
              "      <td>0.0024</td>\n",
              "      <td>0.0024</td>\n",
              "      <td>0.0024</td>\n",
              "      <td>0.0366</td>\n",
              "      <td>0.0024</td>\n",
              "      <td>0.0049</td>\n",
              "      <td>0</td>\n",
              "      <td>0</td>\n",
              "    </tr>\n",
              "    <tr>\n",
              "      <th>8</th>\n",
              "      <td>1</td>\n",
              "      <td>0.0464</td>\n",
              "      <td>0.0024</td>\n",
              "      <td>0.0049</td>\n",
              "      <td>0.0024</td>\n",
              "      <td>0.0024</td>\n",
              "      <td>0.0024</td>\n",
              "      <td>0.0024</td>\n",
              "      <td>0.0342</td>\n",
              "      <td>0.0024</td>\n",
              "      <td>0.0024</td>\n",
              "      <td>0</td>\n",
              "      <td>0</td>\n",
              "    </tr>\n",
              "    <tr>\n",
              "      <th>9</th>\n",
              "      <td>1</td>\n",
              "      <td>0.0415</td>\n",
              "      <td>0.0024</td>\n",
              "      <td>0.0024</td>\n",
              "      <td>0.0024</td>\n",
              "      <td>0.0024</td>\n",
              "      <td>0.0024</td>\n",
              "      <td>0.0024</td>\n",
              "      <td>0.0342</td>\n",
              "      <td>0.0024</td>\n",
              "      <td>0.0024</td>\n",
              "      <td>0</td>\n",
              "      <td>0</td>\n",
              "    </tr>\n",
              "  </tbody>\n",
              "</table>\n",
              "</div>"
            ],
            "text/plain": [
              "   s   emg_1   emg_2   emg_3   emg_4   emg_5   emg_6   emg_7   emg_8   emg_9  \\\n",
              "0  1  0.0684  0.0024  0.0024  0.0024  0.0024  0.0098  0.0024  0.0488  0.0024   \n",
              "1  1  0.0586  0.0024  0.0024  0.0024  0.0024  0.0049  0.0024  0.0415  0.0024   \n",
              "2  1  0.0562  0.0024  0.0024  0.0024  0.0024  0.0049  0.0024  0.0391  0.0024   \n",
              "3  1  0.0562  0.0024  0.0024  0.0024  0.0024  0.0049  0.0024  0.0342  0.0024   \n",
              "4  1  0.0488  0.0024  0.0024  0.0024  0.0024  0.0024  0.0024  0.0366  0.0024   \n",
              "5  1  0.0488  0.0024  0.0024  0.0024  0.0024  0.0024  0.0024  0.0366  0.0024   \n",
              "6  1  0.0439  0.0024  0.0024  0.0024  0.0024  0.0024  0.0024  0.0366  0.0024   \n",
              "7  1  0.0464  0.0024  0.0024  0.0024  0.0024  0.0024  0.0024  0.0366  0.0024   \n",
              "8  1  0.0464  0.0024  0.0049  0.0024  0.0024  0.0024  0.0024  0.0342  0.0024   \n",
              "9  1  0.0415  0.0024  0.0024  0.0024  0.0024  0.0024  0.0024  0.0342  0.0024   \n",
              "\n",
              "   emg_10  rep  label  \n",
              "0  0.0342    0      0  \n",
              "1  0.0293    0      0  \n",
              "2  0.0244    0      0  \n",
              "3  0.0171    0      0  \n",
              "4  0.0146    0      0  \n",
              "5  0.0098    0      0  \n",
              "6  0.0098    0      0  \n",
              "7  0.0049    0      0  \n",
              "8  0.0024    0      0  \n",
              "9  0.0024    0      0  "
            ]
          },
          "execution_count": 9,
          "metadata": {},
          "output_type": "execute_result"
        }
      ],
      "source": [
        "# Primeros registros\n",
        "data_base.head(10)"
      ]
    },
    {
      "cell_type": "markdown",
      "metadata": {},
      "source": [
        "## Preprocesamiento de la señal\n",
        "\n",
        "### Filtrado de ruido\n",
        "\n",
        "A continuación se realiza un filtrado de ruido de la señal"
      ]
    },
    {
      "cell_type": "code",
      "execution_count": 10,
      "metadata": {},
      "outputs": [
        {
          "data": {
            "text/html": [
              "<div>\n",
              "<style scoped>\n",
              "    .dataframe tbody tr th:only-of-type {\n",
              "        vertical-align: middle;\n",
              "    }\n",
              "\n",
              "    .dataframe tbody tr th {\n",
              "        vertical-align: top;\n",
              "    }\n",
              "\n",
              "    .dataframe thead th {\n",
              "        text-align: right;\n",
              "    }\n",
              "</style>\n",
              "<table border=\"1\" class=\"dataframe\">\n",
              "  <thead>\n",
              "    <tr style=\"text-align: right;\">\n",
              "      <th></th>\n",
              "      <th>s</th>\n",
              "      <th>emg_1</th>\n",
              "      <th>emg_2</th>\n",
              "      <th>emg_3</th>\n",
              "      <th>emg_4</th>\n",
              "      <th>emg_5</th>\n",
              "      <th>emg_6</th>\n",
              "      <th>emg_7</th>\n",
              "      <th>emg_8</th>\n",
              "      <th>emg_9</th>\n",
              "      <th>emg_10</th>\n",
              "      <th>rep</th>\n",
              "      <th>label</th>\n",
              "    </tr>\n",
              "  </thead>\n",
              "  <tbody>\n",
              "    <tr>\n",
              "      <th>0</th>\n",
              "      <td>1</td>\n",
              "      <td>0.067523</td>\n",
              "      <td>0.002402</td>\n",
              "      <td>0.002399</td>\n",
              "      <td>0.002403</td>\n",
              "      <td>0.002395</td>\n",
              "      <td>0.009800</td>\n",
              "      <td>0.0024</td>\n",
              "      <td>0.050357</td>\n",
              "      <td>0.0024</td>\n",
              "      <td>0.034192</td>\n",
              "      <td>0</td>\n",
              "      <td>0</td>\n",
              "    </tr>\n",
              "    <tr>\n",
              "      <th>1</th>\n",
              "      <td>1</td>\n",
              "      <td>0.066284</td>\n",
              "      <td>0.002402</td>\n",
              "      <td>0.002402</td>\n",
              "      <td>0.002404</td>\n",
              "      <td>0.002395</td>\n",
              "      <td>0.009474</td>\n",
              "      <td>0.0024</td>\n",
              "      <td>0.049707</td>\n",
              "      <td>0.0024</td>\n",
              "      <td>0.032820</td>\n",
              "      <td>0</td>\n",
              "      <td>0</td>\n",
              "    </tr>\n",
              "    <tr>\n",
              "      <th>2</th>\n",
              "      <td>1</td>\n",
              "      <td>0.065045</td>\n",
              "      <td>0.002403</td>\n",
              "      <td>0.002405</td>\n",
              "      <td>0.002404</td>\n",
              "      <td>0.002395</td>\n",
              "      <td>0.009149</td>\n",
              "      <td>0.0024</td>\n",
              "      <td>0.049050</td>\n",
              "      <td>0.0024</td>\n",
              "      <td>0.031452</td>\n",
              "      <td>0</td>\n",
              "      <td>0</td>\n",
              "    </tr>\n",
              "    <tr>\n",
              "      <th>3</th>\n",
              "      <td>1</td>\n",
              "      <td>0.063810</td>\n",
              "      <td>0.002403</td>\n",
              "      <td>0.002409</td>\n",
              "      <td>0.002405</td>\n",
              "      <td>0.002395</td>\n",
              "      <td>0.008827</td>\n",
              "      <td>0.0024</td>\n",
              "      <td>0.048390</td>\n",
              "      <td>0.0024</td>\n",
              "      <td>0.030091</td>\n",
              "      <td>0</td>\n",
              "      <td>0</td>\n",
              "    </tr>\n",
              "    <tr>\n",
              "      <th>4</th>\n",
              "      <td>1</td>\n",
              "      <td>0.062581</td>\n",
              "      <td>0.002404</td>\n",
              "      <td>0.002412</td>\n",
              "      <td>0.002406</td>\n",
              "      <td>0.002395</td>\n",
              "      <td>0.008507</td>\n",
              "      <td>0.0024</td>\n",
              "      <td>0.047726</td>\n",
              "      <td>0.0024</td>\n",
              "      <td>0.028743</td>\n",
              "      <td>0</td>\n",
              "      <td>0</td>\n",
              "    </tr>\n",
              "  </tbody>\n",
              "</table>\n",
              "</div>"
            ],
            "text/plain": [
              "   s     emg_1     emg_2     emg_3     emg_4     emg_5     emg_6   emg_7  \\\n",
              "0  1  0.067523  0.002402  0.002399  0.002403  0.002395  0.009800  0.0024   \n",
              "1  1  0.066284  0.002402  0.002402  0.002404  0.002395  0.009474  0.0024   \n",
              "2  1  0.065045  0.002403  0.002405  0.002404  0.002395  0.009149  0.0024   \n",
              "3  1  0.063810  0.002403  0.002409  0.002405  0.002395  0.008827  0.0024   \n",
              "4  1  0.062581  0.002404  0.002412  0.002406  0.002395  0.008507  0.0024   \n",
              "\n",
              "      emg_8   emg_9    emg_10  rep  label  \n",
              "0  0.050357  0.0024  0.034192    0      0  \n",
              "1  0.049707  0.0024  0.032820    0      0  \n",
              "2  0.049050  0.0024  0.031452    0      0  \n",
              "3  0.048390  0.0024  0.030091    0      0  \n",
              "4  0.047726  0.0024  0.028743    0      0  "
            ]
          },
          "execution_count": 10,
          "metadata": {},
          "output_type": "execute_result"
        }
      ],
      "source": [
        "# perform 2-order 1Hz low-pass filter\n",
        "emgs_df_filt =  filter_signal(data_base.iloc[:,1:11])  \n",
        "data_base_filter =  pd.concat([data_base['s'], emgs_df_filt, data_base['rep'] , data_base['label']], axis=1)\n",
        "data_base_filter.head()"
      ]
    },
    {
      "cell_type": "markdown",
      "metadata": {},
      "source": [
        "## Segmentacion\n",
        "\n",
        "Se van a usar ventanas de 30 muestras sobrelapadas en 10 muestras:"
      ]
    },
    {
      "cell_type": "code",
      "execution_count": 11,
      "metadata": {},
      "outputs": [
        {
          "name": "stdout",
          "output_type": "stream",
          "text": [
            "9369\n"
          ]
        }
      ],
      "source": [
        "numero_de_sujetos = 2\n",
        "sujetos_muestra = data_base_filter[data_base_filter['s'] <= numero_de_sujetos]\n",
        "segments = segmentar_data_base(sujetos_muestra, 30, 10)"
      ]
    },
    {
      "cell_type": "code",
      "execution_count": 12,
      "metadata": {},
      "outputs": [
        {
          "name": "stdout",
          "output_type": "stream",
          "text": [
            "(2731393, 13)\n",
            "9369\n"
          ]
        }
      ],
      "source": [
        "print(data_base_filter.shape)\n",
        "print(len(segments))"
      ]
    },
    {
      "cell_type": "code",
      "execution_count": 13,
      "metadata": {},
      "outputs": [],
      "source": [
        "data_base_to_model = aplanar_data_base(segments)"
      ]
    },
    {
      "cell_type": "code",
      "execution_count": 16,
      "metadata": {},
      "outputs": [
        {
          "data": {
            "text/plain": [
              "(9369, 302)"
            ]
          },
          "execution_count": 16,
          "metadata": {},
          "output_type": "execute_result"
        }
      ],
      "source": [
        "data_base_to_model.shape"
      ]
    },
    {
      "cell_type": "code",
      "execution_count": 17,
      "metadata": {},
      "outputs": [
        {
          "data": {
            "text/html": [
              "<div>\n",
              "<style scoped>\n",
              "    .dataframe tbody tr th:only-of-type {\n",
              "        vertical-align: middle;\n",
              "    }\n",
              "\n",
              "    .dataframe tbody tr th {\n",
              "        vertical-align: top;\n",
              "    }\n",
              "\n",
              "    .dataframe thead th {\n",
              "        text-align: right;\n",
              "    }\n",
              "</style>\n",
              "<table border=\"1\" class=\"dataframe\">\n",
              "  <thead>\n",
              "    <tr style=\"text-align: right;\">\n",
              "      <th></th>\n",
              "      <th>emg_1_0</th>\n",
              "      <th>emg_2_0</th>\n",
              "      <th>emg_3_0</th>\n",
              "      <th>emg_4_0</th>\n",
              "      <th>emg_5_0</th>\n",
              "      <th>emg_6_0</th>\n",
              "      <th>emg_7_0</th>\n",
              "      <th>emg_8_0</th>\n",
              "      <th>emg_9_0</th>\n",
              "      <th>emg_10_0</th>\n",
              "      <th>...</th>\n",
              "      <th>emg_3_29</th>\n",
              "      <th>emg_4_29</th>\n",
              "      <th>emg_5_29</th>\n",
              "      <th>emg_6_29</th>\n",
              "      <th>emg_7_29</th>\n",
              "      <th>emg_8_29</th>\n",
              "      <th>emg_9_29</th>\n",
              "      <th>emg_10_29</th>\n",
              "      <th>rep</th>\n",
              "      <th>label</th>\n",
              "    </tr>\n",
              "  </thead>\n",
              "  <tbody>\n",
              "    <tr>\n",
              "      <th>0</th>\n",
              "      <td>0.067523</td>\n",
              "      <td>0.066284</td>\n",
              "      <td>0.065045</td>\n",
              "      <td>0.063810</td>\n",
              "      <td>0.062581</td>\n",
              "      <td>0.061362</td>\n",
              "      <td>0.060156</td>\n",
              "      <td>0.058966</td>\n",
              "      <td>0.057793</td>\n",
              "      <td>0.056641</td>\n",
              "      <td>...</td>\n",
              "      <td>0.009423</td>\n",
              "      <td>0.008701</td>\n",
              "      <td>0.008017</td>\n",
              "      <td>0.00737</td>\n",
              "      <td>0.00676</td>\n",
              "      <td>0.006185</td>\n",
              "      <td>0.005646</td>\n",
              "      <td>0.005140</td>\n",
              "      <td>0</td>\n",
              "      <td>0</td>\n",
              "    </tr>\n",
              "    <tr>\n",
              "      <th>1</th>\n",
              "      <td>0.045784</td>\n",
              "      <td>0.044986</td>\n",
              "      <td>0.044221</td>\n",
              "      <td>0.043488</td>\n",
              "      <td>0.042789</td>\n",
              "      <td>0.042121</td>\n",
              "      <td>0.041485</td>\n",
              "      <td>0.040880</td>\n",
              "      <td>0.040305</td>\n",
              "      <td>0.039760</td>\n",
              "      <td>...</td>\n",
              "      <td>0.001190</td>\n",
              "      <td>0.001049</td>\n",
              "      <td>0.000926</td>\n",
              "      <td>0.00082</td>\n",
              "      <td>0.00073</td>\n",
              "      <td>0.000654</td>\n",
              "      <td>0.000592</td>\n",
              "      <td>0.000544</td>\n",
              "      <td>0</td>\n",
              "      <td>0</td>\n",
              "    </tr>\n",
              "  </tbody>\n",
              "</table>\n",
              "<p>2 rows × 302 columns</p>\n",
              "</div>"
            ],
            "text/plain": [
              "    emg_1_0   emg_2_0   emg_3_0   emg_4_0   emg_5_0   emg_6_0   emg_7_0  \\\n",
              "0  0.067523  0.066284  0.065045  0.063810  0.062581  0.061362  0.060156   \n",
              "1  0.045784  0.044986  0.044221  0.043488  0.042789  0.042121  0.041485   \n",
              "\n",
              "    emg_8_0   emg_9_0  emg_10_0  ...  emg_3_29  emg_4_29  emg_5_29  emg_6_29  \\\n",
              "0  0.058966  0.057793  0.056641  ...  0.009423  0.008701  0.008017   0.00737   \n",
              "1  0.040880  0.040305  0.039760  ...  0.001190  0.001049  0.000926   0.00082   \n",
              "\n",
              "   emg_7_29  emg_8_29  emg_9_29  emg_10_29  rep  label  \n",
              "0   0.00676  0.006185  0.005646   0.005140    0      0  \n",
              "1   0.00073  0.000654  0.000592   0.000544    0      0  \n",
              "\n",
              "[2 rows x 302 columns]"
            ]
          },
          "execution_count": 17,
          "metadata": {},
          "output_type": "execute_result"
        }
      ],
      "source": [
        "data_base_to_model.head(2)"
      ]
    },
    {
      "cell_type": "markdown",
      "metadata": {},
      "source": [
        "# Modelado\n",
        "\n",
        "* Puede que sea necesario reducir dimensionalidad usando algunas transformaciones.\n",
        "* Escalar.\n",
        "* Normalizar.\n",
        "* Entrenar y Testear.\n",
        "* Rezar."
      ]
    },
    {
      "cell_type": "markdown",
      "metadata": {
        "id": "Rx51nv4B3Cs7"
      },
      "source": [
        "## Referencias\n",
        "\n",
        "* https://github.com/parasgulati8/NinaPro-Helper-Library\n",
        "* https://github.com/Lif3line/nina_helper_package_mk2\n",
        "* https://github.com/cnzero/NinaproCNN/tree/master\n",
        "* https://github.com/sebastiankmiec/NinaTools\n",
        "* https://github.com/sun2009ban/divide_NinaPro_database_5\n",
        "* https://github.com/tsagkas/sEMG-HandGestureRecognition \n",
        "* https://repositorio.unbosque.edu.co/items/61d39597-5a61-491c-909a-849e53efe8ad\n",
        "* https://github.com/parasgulati8/NinaPro-Helper-Library/blob/master/"
      ]
    }
  ],
  "metadata": {
    "colab": {
      "provenance": [],
      "toc_visible": true
    },
    "kernelspec": {
      "display_name": "Python 3",
      "name": "python3"
    },
    "language_info": {
      "codemirror_mode": {
        "name": "ipython",
        "version": 3
      },
      "file_extension": ".py",
      "mimetype": "text/x-python",
      "name": "python",
      "nbconvert_exporter": "python",
      "pygments_lexer": "ipython3",
      "version": "3.9.13"
    }
  },
  "nbformat": 4,
  "nbformat_minor": 0
}
