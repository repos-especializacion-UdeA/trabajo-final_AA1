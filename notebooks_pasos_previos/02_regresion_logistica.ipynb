{
 "cells": [
  {
   "cell_type": "markdown",
   "metadata": {
    "id": "rPZt-r4JwXem"
   },
   "source": [
    "# Regresion Logística"
   ]
  },
  {
   "cell_type": "markdown",
   "metadata": {
    "id": "Ry7-zR7_wXer"
   },
   "source": [
    "\n",
    "**Regresión logística** es una variación que se usa para clasificación binaria (entre 0 y 1).\n",
    "\n",
    "No es práctico usar una línea recta para estimar probabilidades (que varían entre 0 y 1)\n",
    "\n",
    "Establece la probabilidad de que la instancia pertenezca a la clase objetivo*\n",
    "\n",
    "*NO indica que este sea el valor de la variable de respuesta, tal y como es el caso de la regresión lineal\n",
    "\n"
   ]
  },
  {
   "cell_type": "markdown",
   "metadata": {
    "id": "E067WepIwXes"
   },
   "source": [
    "\n"
   ]
  },
  {
   "cell_type": "markdown",
   "metadata": {
    "id": "UoeVw4gTwXet"
   },
   "source": [
    "## 1. Librerias y configuraciones previas\n"
   ]
  },
  {
   "cell_type": "code",
   "execution_count": 1,
   "metadata": {},
   "outputs": [],
   "source": [
    "# Tratamiento de datos\n",
    "# ==============================================================================\n",
    "import pandas as pd\n",
    "import numpy as np\n",
    "\n",
    "\n",
    "# Almacenar en caché los resultados de funciones en el disco\n",
    "# ==============================================================================\n",
    "import joblib\n",
    "\n",
    "\n",
    "# Gestion de librerias\n",
    "# ==============================================================================\n",
    "from importlib import reload\n",
    "\n",
    "\n",
    "# Matemáticas y estadísticas\n",
    "# ==============================================================================\n",
    "import math\n",
    "\n",
    "\n",
    "# Preprocesado y modelado\n",
    "# ==============================================================================\n",
    "import math\n",
    "\n",
    "#Separar los datos entrenamiento y prueba\n",
    "from sklearn.model_selection import train_test_split\n",
    "\n",
    "\n",
    "#Escalar Variables\n",
    "from sklearn.preprocessing import MinMaxScaler\n",
    "\n",
    "\n",
    "#Evaluación del modelo\n",
    "from sklearn import metrics\n",
    "from sklearn.metrics import classification_report, confusion_matrix, ConfusionMatrixDisplay\n",
    "from sklearn.metrics import roc_auc_score\n",
    "from sklearn.metrics import roc_curve\n",
    "\n",
    "\n",
    "\n",
    "#Creación de modelo\n",
    "from sklearn.linear_model import LogisticRegression\n",
    "\n",
    "\n",
    "# Gráficos\n",
    "# ==============================================================================\n",
    "import matplotlib.pyplot as plt\n",
    "from matplotlib import style\n",
    "import seaborn as sns\n",
    "\n",
    "\n",
    "# Configuración warnings\n",
    "# ==============================================================================\n",
    "import warnings\n",
    "warnings.filterwarnings('ignore')"
   ]
  },
  {
   "cell_type": "markdown",
   "metadata": {
    "id": "DBTg9fbUwXeu"
   },
   "source": [
    "## 2. Funciones"
   ]
  },
  {
   "cell_type": "code",
   "execution_count": 2,
   "metadata": {},
   "outputs": [],
   "source": [
    "#reload(utils.funciones)\n",
    "\n",
    "# Funciones externas\n",
    "# ==============================================================================\n",
    "from utils.funciones import multiple_plot, plot_roc_curve"
   ]
  },
  {
   "cell_type": "markdown",
   "metadata": {
    "id": "wuh_5Lk9wXev"
   },
   "source": [
    "## 3. Carga del dataset"
   ]
  },
  {
   "cell_type": "code",
   "execution_count": 3,
   "metadata": {
    "executionInfo": {
     "elapsed": 51683,
     "status": "ok",
     "timestamp": 1612407625109,
     "user": {
      "displayName": "JORGE ALONSO BEDOYA PUERTA",
      "photoUrl": "",
      "userId": "14875356627137784897"
     },
     "user_tz": 300
    },
    "id": "gV6i-mgu2tkh"
   },
   "outputs": [],
   "source": [
    "#Se crea un dataframe d con los datos obtenidos de archivo de entrada\n",
    "d=pd.read_csv('./datasets/02_GermanCredit_Prep.csv')"
   ]
  },
  {
   "cell_type": "code",
   "execution_count": 4,
   "metadata": {
    "colab": {
     "base_uri": "https://localhost:8080/"
    },
    "executionInfo": {
     "elapsed": 50577,
     "status": "ok",
     "timestamp": 1612407623997,
     "user": {
      "displayName": "JORGE ALONSO BEDOYA PUERTA",
      "photoUrl": "",
      "userId": "14875356627137784897"
     },
     "user_tz": 300
    },
    "id": "exaq8w4M44FJ",
    "outputId": "750ba99c-a3d4-468a-e689-da752b031df6"
   },
   "outputs": [],
   "source": [
    "## Cargar datos con colab\n",
    "## =============================================================================\n",
    "\n",
    "#from google.colab import drive \n",
    "#import os\n",
    "\n",
    "#drive.mount('/gdrive')"
   ]
  },
  {
   "cell_type": "code",
   "execution_count": 5,
   "metadata": {},
   "outputs": [],
   "source": [
    "#os.chdir(\"/gdrive/MyDrive/ModelosCuantitativosPython/Notebooks\")\n",
    "#!ls"
   ]
  },
  {
   "cell_type": "code",
   "execution_count": 6,
   "metadata": {},
   "outputs": [
    {
     "name": "stdout",
     "output_type": "stream",
     "text": [
      "<class 'pandas.core.frame.DataFrame'>\n",
      "RangeIndex: 1138 entries, 0 to 1137\n",
      "Data columns (total 21 columns):\n",
      " #   Column                    Non-Null Count  Dtype \n",
      "---  ------                    --------------  ----- \n",
      " 0   checking_account_status   1138 non-null   object\n",
      " 1   loan_duration_mo          1138 non-null   int64 \n",
      " 2   credit_history            1138 non-null   object\n",
      " 3   purpose                   1138 non-null   object\n",
      " 4   loan_amount               1138 non-null   int64 \n",
      " 5   savings_account_balance   1138 non-null   object\n",
      " 6   time_employed_yrs         1138 non-null   object\n",
      " 7   payment_pcnt_income       1138 non-null   int64 \n",
      " 8   gender_status             1138 non-null   object\n",
      " 9   other_signators           1138 non-null   object\n",
      " 10  time_in_residence         1138 non-null   int64 \n",
      " 11  property                  1138 non-null   object\n",
      " 12  age_yrs                   1138 non-null   int64 \n",
      " 13  other_credit_outstanding  1138 non-null   object\n",
      " 14  home_ownership            1138 non-null   object\n",
      " 15  number_loans              1138 non-null   int64 \n",
      " 16  job_category              1138 non-null   object\n",
      " 17  dependents                1138 non-null   int64 \n",
      " 18  telephone                 1138 non-null   object\n",
      " 19  foreign_worker            1138 non-null   object\n",
      " 20  bad_credit                1138 non-null   int64 \n",
      "dtypes: int64(8), object(13)\n",
      "memory usage: 186.8+ KB\n"
     ]
    }
   ],
   "source": [
    "d.info()"
   ]
  },
  {
   "cell_type": "markdown",
   "metadata": {
    "id": "4TX6PJtWwXez"
   },
   "source": [
    "## 4. Visualización de datos"
   ]
  },
  {
   "cell_type": "markdown",
   "metadata": {},
   "source": [
    "### Variables de entrada"
   ]
  },
  {
   "cell_type": "code",
   "execution_count": 7,
   "metadata": {
    "executionInfo": {
     "elapsed": 51960,
     "status": "ok",
     "timestamp": 1612407625448,
     "user": {
      "displayName": "JORGE ALONSO BEDOYA PUERTA",
      "photoUrl": "",
      "userId": "14875356627137784897"
     },
     "user_tz": 300
    },
    "id": "i5gmrLf_wXez"
   },
   "outputs": [
    {
     "data": {
      "text/html": [
       "<div>\n",
       "<style scoped>\n",
       "    .dataframe tbody tr th:only-of-type {\n",
       "        vertical-align: middle;\n",
       "    }\n",
       "\n",
       "    .dataframe tbody tr th {\n",
       "        vertical-align: top;\n",
       "    }\n",
       "\n",
       "    .dataframe thead th {\n",
       "        text-align: right;\n",
       "    }\n",
       "</style>\n",
       "<table border=\"1\" class=\"dataframe\">\n",
       "  <thead>\n",
       "    <tr style=\"text-align: right;\">\n",
       "      <th></th>\n",
       "      <th>checking_account_status</th>\n",
       "      <th>credit_history</th>\n",
       "      <th>purpose</th>\n",
       "      <th>savings_account_balance</th>\n",
       "      <th>time_employed_yrs</th>\n",
       "      <th>gender_status</th>\n",
       "      <th>other_signators</th>\n",
       "      <th>property</th>\n",
       "      <th>other_credit_outstanding</th>\n",
       "      <th>home_ownership</th>\n",
       "      <th>job_category</th>\n",
       "      <th>telephone</th>\n",
       "      <th>foreign_worker</th>\n",
       "    </tr>\n",
       "  </thead>\n",
       "  <tbody>\n",
       "    <tr>\n",
       "      <th>0</th>\n",
       "      <td>&lt; 0 DM</td>\n",
       "      <td>critical account - other non-bank loans</td>\n",
       "      <td>car</td>\n",
       "      <td>&lt; 100 DM</td>\n",
       "      <td>1 - 4 years</td>\n",
       "      <td>female-divorced/separated/married</td>\n",
       "      <td>co-applicant</td>\n",
       "      <td>real estate</td>\n",
       "      <td>none</td>\n",
       "      <td>own</td>\n",
       "      <td>skilled</td>\n",
       "      <td>none</td>\n",
       "      <td>yes</td>\n",
       "    </tr>\n",
       "    <tr>\n",
       "      <th>1</th>\n",
       "      <td>&lt; 0 DM</td>\n",
       "      <td>current loans paid</td>\n",
       "      <td>car</td>\n",
       "      <td>&lt; 100 DM</td>\n",
       "      <td>1 - 4 years</td>\n",
       "      <td>male-married/widowed</td>\n",
       "      <td>none</td>\n",
       "      <td>real estate</td>\n",
       "      <td>none</td>\n",
       "      <td>own</td>\n",
       "      <td>unskilled-resident</td>\n",
       "      <td>none</td>\n",
       "      <td>yes</td>\n",
       "    </tr>\n",
       "  </tbody>\n",
       "</table>\n",
       "</div>"
      ],
      "text/plain": [
       "  checking_account_status                           credit_history purpose  \\\n",
       "0                  < 0 DM  critical account - other non-bank loans     car   \n",
       "1                  < 0 DM                       current loans paid     car   \n",
       "\n",
       "  savings_account_balance time_employed_yrs  \\\n",
       "0                < 100 DM       1 - 4 years   \n",
       "1                < 100 DM       1 - 4 years   \n",
       "\n",
       "                       gender_status other_signators     property  \\\n",
       "0  female-divorced/separated/married    co-applicant  real estate   \n",
       "1               male-married/widowed            none  real estate   \n",
       "\n",
       "  other_credit_outstanding home_ownership        job_category telephone  \\\n",
       "0                     none            own             skilled      none   \n",
       "1                     none            own  unskilled-resident      none   \n",
       "\n",
       "  foreign_worker  \n",
       "0            yes  \n",
       "1            yes  "
      ]
     },
     "execution_count": 7,
     "metadata": {},
     "output_type": "execute_result"
    }
   ],
   "source": [
    "#Lista de variables categóricas\n",
    "catCols = d.select_dtypes(include = [\"object\", 'category']).columns.tolist()\n",
    "\n",
    "d[catCols].head(2)"
   ]
  },
  {
   "cell_type": "code",
   "execution_count": 8,
   "metadata": {
    "colab": {
     "base_uri": "https://localhost:8080/",
     "height": 195
    },
    "executionInfo": {
     "elapsed": 55011,
     "status": "ok",
     "timestamp": 1612407628527,
     "user": {
      "displayName": "JORGE ALONSO BEDOYA PUERTA",
      "photoUrl": "",
      "userId": "14875356627137784897"
     },
     "user_tz": 300
    },
    "id": "LDw1T3O5wXe0",
    "outputId": "620304c9-c73b-40df-af49-63d557954dd3"
   },
   "outputs": [
    {
     "data": {
      "text/html": [
       "<div>\n",
       "<style scoped>\n",
       "    .dataframe tbody tr th:only-of-type {\n",
       "        vertical-align: middle;\n",
       "    }\n",
       "\n",
       "    .dataframe tbody tr th {\n",
       "        vertical-align: top;\n",
       "    }\n",
       "\n",
       "    .dataframe thead th {\n",
       "        text-align: right;\n",
       "    }\n",
       "</style>\n",
       "<table border=\"1\" class=\"dataframe\">\n",
       "  <thead>\n",
       "    <tr style=\"text-align: right;\">\n",
       "      <th></th>\n",
       "      <th>loan_duration_mo</th>\n",
       "      <th>loan_amount</th>\n",
       "      <th>payment_pcnt_income</th>\n",
       "      <th>time_in_residence</th>\n",
       "      <th>age_yrs</th>\n",
       "      <th>number_loans</th>\n",
       "      <th>dependents</th>\n",
       "      <th>bad_credit</th>\n",
       "    </tr>\n",
       "  </thead>\n",
       "  <tbody>\n",
       "    <tr>\n",
       "      <th>0</th>\n",
       "      <td>12</td>\n",
       "      <td>3499</td>\n",
       "      <td>3</td>\n",
       "      <td>2</td>\n",
       "      <td>29</td>\n",
       "      <td>2</td>\n",
       "      <td>1</td>\n",
       "      <td>1</td>\n",
       "    </tr>\n",
       "    <tr>\n",
       "      <th>1</th>\n",
       "      <td>12</td>\n",
       "      <td>1168</td>\n",
       "      <td>4</td>\n",
       "      <td>3</td>\n",
       "      <td>27</td>\n",
       "      <td>1</td>\n",
       "      <td>1</td>\n",
       "      <td>0</td>\n",
       "    </tr>\n",
       "  </tbody>\n",
       "</table>\n",
       "</div>"
      ],
      "text/plain": [
       "   loan_duration_mo  loan_amount  payment_pcnt_income  time_in_residence  \\\n",
       "0                12         3499                    3                  2   \n",
       "1                12         1168                    4                  3   \n",
       "\n",
       "   age_yrs  number_loans  dependents  bad_credit  \n",
       "0       29             2           1           1  \n",
       "1       27             1           1           0  "
      ]
     },
     "execution_count": 8,
     "metadata": {},
     "output_type": "execute_result"
    }
   ],
   "source": [
    "#Lista de variables numéricas\n",
    "\n",
    "numCols=d.select_dtypes(include = ['float64','float64','int32','int64']).columns.tolist()\n",
    "\n",
    "d[numCols].head(2)"
   ]
  },
  {
   "cell_type": "code",
   "execution_count": 9,
   "metadata": {
    "colab": {
     "base_uri": "https://localhost:8080/",
     "height": 1000
    },
    "executionInfo": {
     "elapsed": 55019,
     "status": "ok",
     "timestamp": 1612407628521,
     "user": {
      "displayName": "JORGE ALONSO BEDOYA PUERTA",
      "photoUrl": "",
      "userId": "14875356627137784897"
     },
     "user_tz": 300
    },
    "id": "1InZLchIwXe0",
    "outputId": "55ef858b-779c-4114-fe5b-19de48d1b8d9"
   },
   "outputs": [],
   "source": [
    "##Visualización de frecuencia de instancias para variables categóricas\n",
    "#multiple_plot(3, d , catCols, None, 'countplot', 'Frecuencia de instancias para variables categóricas',30)"
   ]
  },
  {
   "cell_type": "code",
   "execution_count": 10,
   "metadata": {
    "colab": {
     "base_uri": "https://localhost:8080/",
     "height": 1000
    },
    "executionInfo": {
     "elapsed": 77875,
     "status": "ok",
     "timestamp": 1612407651406,
     "user": {
      "displayName": "JORGE ALONSO BEDOYA PUERTA",
      "photoUrl": "",
      "userId": "14875356627137784897"
     },
     "user_tz": 300
    },
    "id": "eSawXgAGwXe1",
    "outputId": "c740309c-ab5f-4a33-c9a2-6c9a7aa215b2"
   },
   "outputs": [],
   "source": [
    "##Visualización de variables numéricas\n",
    "#multiple_plot(1, d , numCols, None, 'scatterplot', 'Relación entre las variables numéricas',30)"
   ]
  },
  {
   "cell_type": "code",
   "execution_count": 11,
   "metadata": {},
   "outputs": [],
   "source": [
    "#Eliminar la variable de salida de la lista de variable numéricas\n",
    "numCols.remove('bad_credit')"
   ]
  },
  {
   "cell_type": "markdown",
   "metadata": {},
   "source": [
    "### Variable de salida"
   ]
  },
  {
   "cell_type": "code",
   "execution_count": 12,
   "metadata": {
    "colab": {
     "base_uri": "https://localhost:8080/"
    },
    "executionInfo": {
     "elapsed": 51639,
     "status": "ok",
     "timestamp": 1612407625117,
     "user": {
      "displayName": "JORGE ALONSO BEDOYA PUERTA",
      "photoUrl": "",
      "userId": "14875356627137784897"
     },
     "user_tz": 300
    },
    "id": "hfAkHe0PwXez",
    "outputId": "f27e151d-9e31-4898-8dc2-7b1099449085"
   },
   "outputs": [
    {
     "data": {
      "text/plain": [
       "bad_credit\n",
       "0    569\n",
       "1    569\n",
       "Name: bad_credit, dtype: int64"
      ]
     },
     "execution_count": 12,
     "metadata": {},
     "output_type": "execute_result"
    }
   ],
   "source": [
    "# Distriución de la variable de salida\n",
    "\n",
    "d.groupby('bad_credit').bad_credit.count().sort_values(ascending=False)"
   ]
  },
  {
   "cell_type": "code",
   "execution_count": 13,
   "metadata": {
    "colab": {
     "base_uri": "https://localhost:8080/",
     "height": 299
    },
    "executionInfo": {
     "elapsed": 51962,
     "status": "ok",
     "timestamp": 1612407625448,
     "user": {
      "displayName": "JORGE ALONSO BEDOYA PUERTA",
      "photoUrl": "",
      "userId": "14875356627137784897"
     },
     "user_tz": 300
    },
    "id": "WnpMPDx9wXez",
    "outputId": "5f39ccb7-0eed-42de-962c-0efdb0699f4e"
   },
   "outputs": [],
   "source": [
    "##Visualización de la variable de salida\n",
    "#multiple_plot(1, d , None, 'bad_credit', 'countplot', 'Gráfica de frecuencia de bad Credit',0)"
   ]
  },
  {
   "cell_type": "markdown",
   "metadata": {},
   "source": [
    "## 5. Transformación de datos"
   ]
  },
  {
   "cell_type": "markdown",
   "metadata": {
    "id": "PH6-gZRTwXe1"
   },
   "source": [
    "### Creación de variables Dummies "
   ]
  },
  {
   "cell_type": "code",
   "execution_count": 14,
   "metadata": {
    "executionInfo": {
     "elapsed": 448,
     "status": "ok",
     "timestamp": 1612407995862,
     "user": {
      "displayName": "JORGE ALONSO BEDOYA PUERTA",
      "photoUrl": "",
      "userId": "14875356627137784897"
     },
     "user_tz": 300
    },
    "id": "bTDba1DFwXe2"
   },
   "outputs": [
    {
     "name": "stdout",
     "output_type": "stream",
     "text": [
      "<class 'pandas.core.frame.DataFrame'>\n",
      "RangeIndex: 1138 entries, 0 to 1137\n",
      "Data columns (total 46 columns):\n",
      " #   Column                                                  Non-Null Count  Dtype\n",
      "---  ------                                                  --------------  -----\n",
      " 0   loan_duration_mo                                        1138 non-null   int64\n",
      " 1   loan_amount                                             1138 non-null   int64\n",
      " 2   payment_pcnt_income                                     1138 non-null   int64\n",
      " 3   time_in_residence                                       1138 non-null   int64\n",
      " 4   age_yrs                                                 1138 non-null   int64\n",
      " 5   number_loans                                            1138 non-null   int64\n",
      " 6   dependents                                              1138 non-null   int64\n",
      " 7   bad_credit                                              1138 non-null   int64\n",
      " 8   checking_account_status_< 0 DM                          1138 non-null   uint8\n",
      " 9   checking_account_status_> 200 DM or salary assignment   1138 non-null   uint8\n",
      " 10  checking_account_status_none                            1138 non-null   uint8\n",
      " 11  credit_history_critical account - other non-bank loans  1138 non-null   uint8\n",
      " 12  credit_history_current loans paid                       1138 non-null   uint8\n",
      " 13  credit_history_no credit - paid                         1138 non-null   uint8\n",
      " 14  credit_history_past payment delays                      1138 non-null   uint8\n",
      " 15  purpose_car                                             1138 non-null   uint8\n",
      " 16  purpose_education                                       1138 non-null   uint8\n",
      " 17  purpose_furniture/equipment                             1138 non-null   uint8\n",
      " 18  purpose_other                                           1138 non-null   uint8\n",
      " 19  purpose_radio/television                                1138 non-null   uint8\n",
      " 20  purpose_repairs                                         1138 non-null   uint8\n",
      " 21  savings_account_balance_500 - 1000 DM                   1138 non-null   uint8\n",
      " 22  savings_account_balance_< 100 DM                        1138 non-null   uint8\n",
      " 23  savings_account_balance_>= 1000 DM                      1138 non-null   uint8\n",
      " 24  savings_account_balance_unknown/none                    1138 non-null   uint8\n",
      " 25  time_employed_yrs_4 - 7 years                           1138 non-null   uint8\n",
      " 26  time_employed_yrs_< 1 year                              1138 non-null   uint8\n",
      " 27  time_employed_yrs_>= 7 years                            1138 non-null   uint8\n",
      " 28  time_employed_yrs_unemployed                            1138 non-null   uint8\n",
      " 29  gender_status_male-divorced/separated                   1138 non-null   uint8\n",
      " 30  gender_status_male-married/widowed                      1138 non-null   uint8\n",
      " 31  gender_status_male-single                               1138 non-null   uint8\n",
      " 32  other_signators_guarantor                               1138 non-null   uint8\n",
      " 33  other_signators_none                                    1138 non-null   uint8\n",
      " 34  property_car or other                                   1138 non-null   uint8\n",
      " 35  property_real estate                                    1138 non-null   uint8\n",
      " 36  property_unknown-none                                   1138 non-null   uint8\n",
      " 37  other_credit_outstanding_none                           1138 non-null   uint8\n",
      " 38  other_credit_outstanding_stores                         1138 non-null   uint8\n",
      " 39  home_ownership_own                                      1138 non-null   uint8\n",
      " 40  home_ownership_rent                                     1138 non-null   uint8\n",
      " 41  job_category_skilled                                    1138 non-null   uint8\n",
      " 42  job_category_unemployed-unskilled-non-resident          1138 non-null   uint8\n",
      " 43  job_category_unskilled-resident                         1138 non-null   uint8\n",
      " 44  telephone_yes                                           1138 non-null   uint8\n",
      " 45  foreign_worker_yes                                      1138 non-null   uint8\n",
      "dtypes: int64(8), uint8(38)\n",
      "memory usage: 113.5 KB\n"
     ]
    }
   ],
   "source": [
    "# Aplicación de la función de usuario Dummies: one-hot encoding\n",
    "\n",
    "d =pd.get_dummies(d, drop_first=1)\n",
    "\n",
    "d.info()"
   ]
  },
  {
   "cell_type": "markdown",
   "metadata": {},
   "source": [
    "## 6. Creación del modelo"
   ]
  },
  {
   "cell_type": "markdown",
   "metadata": {
    "id": "nDU3sNFHwXe2"
   },
   "source": [
    "### Dividir el conjunto de datos"
   ]
  },
  {
   "cell_type": "code",
   "execution_count": 15,
   "metadata": {
    "executionInfo": {
     "elapsed": 441,
     "status": "ok",
     "timestamp": 1612408069776,
     "user": {
      "displayName": "JORGE ALONSO BEDOYA PUERTA",
      "photoUrl": "",
      "userId": "14875356627137784897"
     },
     "user_tz": 300
    },
    "id": "C-vRJek1wXe2"
   },
   "outputs": [],
   "source": [
    "#Se crea una lista con todas las varibles de entrada\n",
    "\n",
    "vDep = list(d.columns)\n",
    "vDep.remove('bad_credit')\n",
    "\n",
    "#Se establece las variables de entrada 'X' y la variable de salida 'y'\n",
    "X = d.drop(columns ='bad_credit')\n",
    "y = d['bad_credit']"
   ]
  },
  {
   "cell_type": "code",
   "execution_count": 16,
   "metadata": {
    "executionInfo": {
     "elapsed": 440,
     "status": "ok",
     "timestamp": 1612408080145,
     "user": {
      "displayName": "JORGE ALONSO BEDOYA PUERTA",
      "photoUrl": "",
      "userId": "14875356627137784897"
     },
     "user_tz": 300
    },
    "id": "tTnqla63wXe3"
   },
   "outputs": [],
   "source": [
    "# Se crean los datasets de entrenamiento y prueba para las variables de entrada y salida \n",
    "\n",
    "X_train, X_test, y_train, y_test = train_test_split(\n",
    "                                        X,\n",
    "                                        y.values.reshape(-1,1), \n",
    "                                        train_size   = 0.8,\n",
    "                                        random_state = 123,\n",
    "                                        shuffle      = True\n",
    "                                    )"
   ]
  },
  {
   "cell_type": "markdown",
   "metadata": {},
   "source": [
    "### Escalar Variables"
   ]
  },
  {
   "cell_type": "code",
   "execution_count": 17,
   "metadata": {},
   "outputs": [
    {
     "name": "stdout",
     "output_type": "stream",
     "text": [
      "['loan_duration_mo', 'loan_amount', 'payment_pcnt_income', 'time_in_residence', 'age_yrs', 'number_loans', 'dependents']\n"
     ]
    }
   ],
   "source": [
    "#Se establecen las variables numéricas a escalar\n",
    "\n",
    "#Num_vars se le asigna la lista con las variables numerivas para posteriormente escalarlas\n",
    "num_vars = numCols\n",
    "\n",
    "print(num_vars)"
   ]
  },
  {
   "cell_type": "code",
   "execution_count": 18,
   "metadata": {
    "colab": {
     "base_uri": "https://localhost:8080/",
     "height": 195
    },
    "executionInfo": {
     "elapsed": 422,
     "status": "ok",
     "timestamp": 1612408128135,
     "user": {
      "displayName": "JORGE ALONSO BEDOYA PUERTA",
      "photoUrl": "",
      "userId": "14875356627137784897"
     },
     "user_tz": 300
    },
    "id": "SfGUVKwhwXe3",
    "outputId": "5c8639e5-b736-4732-ac24-1eac0a4aa6c1"
   },
   "outputs": [
    {
     "data": {
      "text/html": [
       "<div>\n",
       "<style scoped>\n",
       "    .dataframe tbody tr th:only-of-type {\n",
       "        vertical-align: middle;\n",
       "    }\n",
       "\n",
       "    .dataframe tbody tr th {\n",
       "        vertical-align: top;\n",
       "    }\n",
       "\n",
       "    .dataframe thead th {\n",
       "        text-align: right;\n",
       "    }\n",
       "</style>\n",
       "<table border=\"1\" class=\"dataframe\">\n",
       "  <thead>\n",
       "    <tr style=\"text-align: right;\">\n",
       "      <th></th>\n",
       "      <th>loan_duration_mo</th>\n",
       "      <th>loan_amount</th>\n",
       "      <th>payment_pcnt_income</th>\n",
       "      <th>time_in_residence</th>\n",
       "      <th>age_yrs</th>\n",
       "      <th>number_loans</th>\n",
       "      <th>dependents</th>\n",
       "    </tr>\n",
       "  </thead>\n",
       "  <tbody>\n",
       "    <tr>\n",
       "      <th>786</th>\n",
       "      <td>0.2059</td>\n",
       "      <td>0.1196</td>\n",
       "      <td>1.0000</td>\n",
       "      <td>1.0000</td>\n",
       "      <td>0.0556</td>\n",
       "      <td>0.0000</td>\n",
       "      <td>0.0000</td>\n",
       "    </tr>\n",
       "    <tr>\n",
       "      <th>278</th>\n",
       "      <td>0.0735</td>\n",
       "      <td>0.0850</td>\n",
       "      <td>1.0000</td>\n",
       "      <td>0.3333</td>\n",
       "      <td>0.0370</td>\n",
       "      <td>0.0000</td>\n",
       "      <td>0.0000</td>\n",
       "    </tr>\n",
       "  </tbody>\n",
       "</table>\n",
       "</div>"
      ],
      "text/plain": [
       "     loan_duration_mo  loan_amount  payment_pcnt_income  time_in_residence  \\\n",
       "786            0.2059       0.1196               1.0000             1.0000   \n",
       "278            0.0735       0.0850               1.0000             0.3333   \n",
       "\n",
       "     age_yrs  number_loans  dependents  \n",
       "786   0.0556        0.0000      0.0000  \n",
       "278   0.0370        0.0000      0.0000  "
      ]
     },
     "execution_count": 18,
     "metadata": {},
     "output_type": "execute_result"
    }
   ],
   "source": [
    "#Escalar Variables númericas\n",
    "\n",
    "pd.set_option('display.float_format', lambda x: '%.4f' % x)\n",
    "\n",
    "# Se crea un objeto MinMaxScaler\n",
    "scaler = MinMaxScaler()\n",
    "\n",
    "# Se escalan los valores del dataset entrenamiento y prueba de las columnas numéricas\n",
    "X_train[num_vars] = scaler.fit_transform(X_train[num_vars])\n",
    "X_test[num_vars] = scaler.transform(X_test[num_vars])\n",
    "\n",
    "X_test[num_vars].head(2)"
   ]
  },
  {
   "cell_type": "markdown",
   "metadata": {
    "id": "Hn7aQvKkwXe3"
   },
   "source": [
    "### Creación del modelo"
   ]
  },
  {
   "cell_type": "markdown",
   "metadata": {
    "id": "0VeSy2_PwXe3"
   },
   "source": [
    "#### Creación y entrenamiento del modelo\n",
    "\n",
    "https://realpython.com/logistic-regression-python/"
   ]
  },
  {
   "cell_type": "markdown",
   "metadata": {
    "id": "O4FHWA1PwXe4"
   },
   "source": [
    "**Parámetros importantes** \n",
    "\n",
    "- **multi_class**: \n",
    "\n",
    "    - `ovr` − (one-versus-rest) Para problemas de clasificación binaria.\n",
    "\n",
    "    - `multimonial` − Para problemas de clasificación para más de 2 clases (multiclase).  No se puede usar si solver = ‘liblinear’.\n",
    "\n",
    "    - `auto` − Esta opcion seleciona ‘ovr’ si solver = ‘liblinear’ o los datos son binarios sino elige ‘multinomial’.\n",
    "    \n",
    "    \n",
    "- **solver**: \n",
    "\n",
    "    - `liblinear` - Muy eficiente con pequeños datasets. Solo se usa para problemas ovr (no trabaja con multiclases)\n",
    "    \n",
    "    - `lbfgs` (default) - Usualmente permite resolver la mayoría de las situaciones. Puede presentar dificultades con problemas de clasificación con conjuntos de datos grandes o muy grandes.\n",
    "    - `newton-cg` , Puede ser computacionalmente muy costoso \n",
    "    - `sag` y `saga` - Muy eficientes con grandes datasets\n",
    "\n",
    "https://holypython.com/log-reg/logistic-regression-optimization-parameters/\n"
   ]
  },
  {
   "cell_type": "code",
   "execution_count": 19,
   "metadata": {
    "colab": {
     "base_uri": "https://localhost:8080/"
    },
    "executionInfo": {
     "elapsed": 409,
     "status": "ok",
     "timestamp": 1612408308058,
     "user": {
      "displayName": "JORGE ALONSO BEDOYA PUERTA",
      "photoUrl": "",
      "userId": "14875356627137784897"
     },
     "user_tz": 300
    },
    "id": "F01T6MC6wXe4",
    "outputId": "efb5e285-a197-4230-ca56-88208c0a75f8"
   },
   "outputs": [
    {
     "data": {
      "text/html": [
       "<style>#sk-container-id-1 {color: black;background-color: white;}#sk-container-id-1 pre{padding: 0;}#sk-container-id-1 div.sk-toggleable {background-color: white;}#sk-container-id-1 label.sk-toggleable__label {cursor: pointer;display: block;width: 100%;margin-bottom: 0;padding: 0.3em;box-sizing: border-box;text-align: center;}#sk-container-id-1 label.sk-toggleable__label-arrow:before {content: \"▸\";float: left;margin-right: 0.25em;color: #696969;}#sk-container-id-1 label.sk-toggleable__label-arrow:hover:before {color: black;}#sk-container-id-1 div.sk-estimator:hover label.sk-toggleable__label-arrow:before {color: black;}#sk-container-id-1 div.sk-toggleable__content {max-height: 0;max-width: 0;overflow: hidden;text-align: left;background-color: #f0f8ff;}#sk-container-id-1 div.sk-toggleable__content pre {margin: 0.2em;color: black;border-radius: 0.25em;background-color: #f0f8ff;}#sk-container-id-1 input.sk-toggleable__control:checked~div.sk-toggleable__content {max-height: 200px;max-width: 100%;overflow: auto;}#sk-container-id-1 input.sk-toggleable__control:checked~label.sk-toggleable__label-arrow:before {content: \"▾\";}#sk-container-id-1 div.sk-estimator input.sk-toggleable__control:checked~label.sk-toggleable__label {background-color: #d4ebff;}#sk-container-id-1 div.sk-label input.sk-toggleable__control:checked~label.sk-toggleable__label {background-color: #d4ebff;}#sk-container-id-1 input.sk-hidden--visually {border: 0;clip: rect(1px 1px 1px 1px);clip: rect(1px, 1px, 1px, 1px);height: 1px;margin: -1px;overflow: hidden;padding: 0;position: absolute;width: 1px;}#sk-container-id-1 div.sk-estimator {font-family: monospace;background-color: #f0f8ff;border: 1px dotted black;border-radius: 0.25em;box-sizing: border-box;margin-bottom: 0.5em;}#sk-container-id-1 div.sk-estimator:hover {background-color: #d4ebff;}#sk-container-id-1 div.sk-parallel-item::after {content: \"\";width: 100%;border-bottom: 1px solid gray;flex-grow: 1;}#sk-container-id-1 div.sk-label:hover label.sk-toggleable__label {background-color: #d4ebff;}#sk-container-id-1 div.sk-serial::before {content: \"\";position: absolute;border-left: 1px solid gray;box-sizing: border-box;top: 0;bottom: 0;left: 50%;z-index: 0;}#sk-container-id-1 div.sk-serial {display: flex;flex-direction: column;align-items: center;background-color: white;padding-right: 0.2em;padding-left: 0.2em;position: relative;}#sk-container-id-1 div.sk-item {position: relative;z-index: 1;}#sk-container-id-1 div.sk-parallel {display: flex;align-items: stretch;justify-content: center;background-color: white;position: relative;}#sk-container-id-1 div.sk-item::before, #sk-container-id-1 div.sk-parallel-item::before {content: \"\";position: absolute;border-left: 1px solid gray;box-sizing: border-box;top: 0;bottom: 0;left: 50%;z-index: -1;}#sk-container-id-1 div.sk-parallel-item {display: flex;flex-direction: column;z-index: 1;position: relative;background-color: white;}#sk-container-id-1 div.sk-parallel-item:first-child::after {align-self: flex-end;width: 50%;}#sk-container-id-1 div.sk-parallel-item:last-child::after {align-self: flex-start;width: 50%;}#sk-container-id-1 div.sk-parallel-item:only-child::after {width: 0;}#sk-container-id-1 div.sk-dashed-wrapped {border: 1px dashed gray;margin: 0 0.4em 0.5em 0.4em;box-sizing: border-box;padding-bottom: 0.4em;background-color: white;}#sk-container-id-1 div.sk-label label {font-family: monospace;font-weight: bold;display: inline-block;line-height: 1.2em;}#sk-container-id-1 div.sk-label-container {text-align: center;}#sk-container-id-1 div.sk-container {/* jupyter's `normalize.less` sets `[hidden] { display: none; }` but bootstrap.min.css set `[hidden] { display: none !important; }` so we also need the `!important` here to be able to override the default hidden behavior on the sphinx rendered scikit-learn.org. See: https://github.com/scikit-learn/scikit-learn/issues/21755 */display: inline-block !important;position: relative;}#sk-container-id-1 div.sk-text-repr-fallback {display: none;}</style><div id=\"sk-container-id-1\" class=\"sk-top-container\"><div class=\"sk-text-repr-fallback\"><pre>LogisticRegression(class_weight=&#x27;balanced&#x27;, multi_class=&#x27;multinomial&#x27;,\n",
       "                   random_state=0)</pre><b>In a Jupyter environment, please rerun this cell to show the HTML representation or trust the notebook. <br />On GitHub, the HTML representation is unable to render, please try loading this page with nbviewer.org.</b></div><div class=\"sk-container\" hidden><div class=\"sk-item\"><div class=\"sk-estimator sk-toggleable\"><input class=\"sk-toggleable__control sk-hidden--visually\" id=\"sk-estimator-id-1\" type=\"checkbox\" checked><label for=\"sk-estimator-id-1\" class=\"sk-toggleable__label sk-toggleable__label-arrow\">LogisticRegression</label><div class=\"sk-toggleable__content\"><pre>LogisticRegression(class_weight=&#x27;balanced&#x27;, multi_class=&#x27;multinomial&#x27;,\n",
       "                   random_state=0)</pre></div></div></div></div></div>"
      ],
      "text/plain": [
       "LogisticRegression(class_weight='balanced', multi_class='multinomial',\n",
       "                   random_state=0)"
      ]
     },
     "execution_count": 19,
     "metadata": {},
     "output_type": "execute_result"
    }
   ],
   "source": [
    "#Creación del modelo \n",
    "\n",
    "modelLRovrLinea = LogisticRegression(multi_class = \"ovr\"\n",
    "                                     , solver='liblinear'\n",
    "                                     , class_weight = 'balanced'\n",
    "                                     , penalty='l2'\n",
    "                                     , random_state=0) \n",
    "\n",
    "modelLRovrlbfgs = LogisticRegression(multi_class = \"ovr\" \n",
    "                                     , solver='lbfgs'\n",
    "                                     , class_weight = 'balanced'\n",
    "                                     , penalty='l2'\n",
    "                                     , random_state=0)\n",
    "\n",
    "\n",
    "modelLRMullbfgs = LogisticRegression(multi_class = \"multinomial\"\n",
    "                                     , solver='lbfgs'\n",
    "                                     , class_weight = 'balanced'\n",
    "                                     , penalty='l2'\n",
    "                                     , random_state=0)\n",
    "\n",
    "#Entrenamiento del modelo con 80% de training\n",
    "\n",
    "modelLRovrLinea.fit(X_train, y_train)\n",
    "modelLRovrlbfgs.fit(X_train, y_train)\n",
    "modelLRMullbfgs.fit(X_train, y_train)\n"
   ]
  },
  {
   "cell_type": "code",
   "execution_count": null,
   "metadata": {},
   "outputs": [],
   "source": []
  },
  {
   "cell_type": "markdown",
   "metadata": {
    "id": "Gf-R0v9AwXe4"
   },
   "source": [
    "### Evaluación del modelo"
   ]
  },
  {
   "cell_type": "code",
   "execution_count": 23,
   "metadata": {
    "executionInfo": {
     "elapsed": 802,
     "status": "ok",
     "timestamp": 1612408335997,
     "user": {
      "displayName": "JORGE ALONSO BEDOYA PUERTA",
      "photoUrl": "",
      "userId": "14875356627137784897"
     },
     "user_tz": 300
    },
    "id": "DrVWrVrjwXe4"
   },
   "outputs": [],
   "source": [
    "# Se realiza la predicción de cada uno de los modelos creados utilizando los datos prueba\n",
    "y_predovrLinea = modelLRovrLinea.predict(X_test)\n",
    "y_predovrlbfgs = modelLRovrlbfgs.predict(X_test)\n",
    "y_predMullbfgs = modelLRMullbfgs.predict(X_test)"
   ]
  },
  {
   "cell_type": "code",
   "execution_count": null,
   "metadata": {
    "scrolled": false
   },
   "outputs": [],
   "source": []
  },
  {
   "cell_type": "markdown",
   "metadata": {},
   "source": [
    "#### Matriz de confusión y métricas"
   ]
  },
  {
   "cell_type": "code",
   "execution_count": 21,
   "metadata": {
    "scrolled": false
   },
   "outputs": [
    {
     "data": {
      "image/png": "[encoded data removed]",
      "text/plain": [
       "<Figure size 432x288 with 2 Axes>"
      ]
     },
     "metadata": {
      "needs_background": "light"
     },
     "output_type": "display_data"
    },
    {
     "name": "stdout",
     "output_type": "stream",
     "text": [
      "              precision    recall  f1-score   support\n",
      "\n",
      "           0       0.74      0.71      0.73       114\n",
      "           1       0.72      0.75      0.74       114\n",
      "\n",
      "    accuracy                           0.73       228\n",
      "   macro avg       0.73      0.73      0.73       228\n",
      "weighted avg       0.73      0.73      0.73       228\n",
      "\n"
     ]
    },
    {
     "data": {
      "image/png": "[encoded data removed]",
      "text/plain": [
       "<Figure size 432x288 with 2 Axes>"
      ]
     },
     "metadata": {
      "needs_background": "light"
     },
     "output_type": "display_data"
    },
    {
     "name": "stdout",
     "output_type": "stream",
     "text": [
      "              precision    recall  f1-score   support\n",
      "\n",
      "           0       0.74      0.71      0.73       114\n",
      "           1       0.72      0.75      0.74       114\n",
      "\n",
      "    accuracy                           0.73       228\n",
      "   macro avg       0.73      0.73      0.73       228\n",
      "weighted avg       0.73      0.73      0.73       228\n",
      "\n"
     ]
    },
    {
     "data": {
      "image/png": "[encoded data removed]",
      "text/plain": [
       "<Figure size 432x288 with 2 Axes>"
      ]
     },
     "metadata": {
      "needs_background": "light"
     },
     "output_type": "display_data"
    },
    {
     "name": "stdout",
     "output_type": "stream",
     "text": [
      "              precision    recall  f1-score   support\n",
      "\n",
      "           0       0.73      0.70      0.72       114\n",
      "           1       0.71      0.75      0.73       114\n",
      "\n",
      "    accuracy                           0.72       228\n",
      "   macro avg       0.72      0.72      0.72       228\n",
      "weighted avg       0.72      0.72      0.72       228\n",
      "\n"
     ]
    }
   ],
   "source": [
    "# Crear un diccionario de modelos\n",
    "models = {\n",
    "    'modelLRovrLinea': [modelLRovrLinea, y_predovrLinea],\n",
    "    'modelLRovrlbfgs': [modelLRovrlbfgs, y_predovrlbfgs],\n",
    "    'modelLRMullbfgs': [modelLRMullbfgs, y_predMullbfgs]\n",
    "}\n",
    "\n",
    "# Para cada modelo se se extrae un elemento del diccionario models\n",
    "for model_name, (model, y_pred) in models.items():\n",
    "    \n",
    "    # Calcular la matriz de confusión\n",
    "    cm = confusion_matrix(y_test, y_pred)\n",
    "    \n",
    "    # Crear la visualización de la matriz de confusión\n",
    "    disp = ConfusionMatrixDisplay(confusion_matrix=cm, display_labels=np.unique(y_test))\n",
    "    \n",
    "    # Mostrar la visualización\n",
    "    disp.plot(cmap='Blues')\n",
    "    \n",
    "    # Mostrar el título usando matplotlib\n",
    "    plt.title(model_name)\n",
    "    \n",
    "    # Mostrar la figura\n",
    "    plt.show()\n",
    "\n",
    "    # Mostrar el informe de clasificación\n",
    "    print(classification_report(y_test, y_pred))\n"
   ]
  },
  {
   "cell_type": "markdown",
   "metadata": {
    "id": "EVVZB3wDwXe5"
   },
   "source": [
    "#### ROC - Receiver Operating Characteristic"
   ]
  },
  {
   "cell_type": "code",
   "execution_count": 22,
   "metadata": {},
   "outputs": [
    {
     "name": "stdout",
     "output_type": "stream",
     "text": [
      "AUC: 0.79\n"
     ]
    },
    {
     "data": {
      "image/png": "[encoded data removed]",
      "text/plain": [
       "<Figure size 720x432 with 1 Axes>"
      ]
     },
     "metadata": {
      "needs_background": "light"
     },
     "output_type": "display_data"
    }
   ],
   "source": [
    "#Curva ROC para un modelo\n",
    "\n",
    "fig = plt.figure(figsize=(10,6))\n",
    "\n",
    "# Predecir las probabilidades de la clase positiva usando el modelo de regresión logística entrenado\n",
    "probs = modelLRovrLinea.predict_proba(X_test)\n",
    "\n",
    "# Tomar las probabilidades de la clase positiva solamente\n",
    "probs = probs[:, 1]\n",
    "\n",
    "# Calcular el área bajo la curva ROC\n",
    "auc = roc_auc_score(y_test, probs*(1))\n",
    "\n",
    "# Imprimir el valor del AUC\n",
    "print('AUC: %.2f' % auc)\n",
    "\n",
    "# Calcular la curva ROC usando los valores verdaderos y las probabilidades predichas\n",
    "fpr, tpr, thresholds = roc_curve(y_test, probs*(1))\n",
    "\n",
    "# Graficar la curva ROC\n",
    "plot_roc_curve(fpr, tpr)\n",
    "\n",
    "\n",
    "##Nota: es necesario que la variable de salida sea numérica, sino debe transformarse"
   ]
  },
  {
   "cell_type": "markdown",
   "metadata": {},
   "source": [
    "### Guardar modelo"
   ]
  },
  {
   "cell_type": "code",
   "execution_count": 23,
   "metadata": {},
   "outputs": [
    {
     "data": {
      "text/plain": [
       "['./modelos/clasificacion/LR_Ret_ovrLineal.pkl']"
      ]
     },
     "execution_count": 23,
     "metadata": {},
     "output_type": "execute_result"
    }
   ],
   "source": [
    "#Se guarda el modelo de Regresión logística\n",
    "joblib.dump(modelLRovrLinea, './modelos/clasificacion/LR_Ret_ovrLineal.pkl')"
   ]
  },
  {
   "cell_type": "markdown",
   "metadata": {
    "id": "1zXB7bOYwXe6"
   },
   "source": [
    "#### Referencias\n",
    "\n",
    "\n",
    "- Regresion Logística\n",
    "\n",
    "    - https://realpython.com/logistic-regression-python/#regularization\n",
    "    \n",
    "    \n",
    "- Parámetros Regresion Logística \n",
    "\n",
    "    - https://holypython.com/log-reg/logistic-regression-optimization-parameters/\n",
    "\n",
    "\n",
    "- *scikit-learn:*   \n",
    "    - https://scikit-learn.org/stable/modules/svm.html\n",
    "\n",
    "\n",
    "\n",
    "- *Gráficas con  seaborn:*\n",
    "    - https://ichi.pro/es/como-utilizar-python-seaborn-para-analisis-de-datos-exploratorios-28897898172180\n",
    "\n",
    "\n",
    "\n",
    "- *Analítica de grandes datos:*\n",
    "    - https://jdvelasq.github.io/courses/analitica-de-grandes-datos/index.html"
   ]
  }
 ],
 "metadata": {
  "colab": {
   "collapsed_sections": [
    "1zXB7bOYwXe6"
   ],
   "name": "04_3_RegresionLogistica.ipynb",
   "provenance": []
  },
  "kernelspec": {
   "display_name": "Python 3 (ipykernel)",
   "language": "python",
   "name": "python3"
  },
  "language_info": {
   "codemirror_mode": {
    "name": "ipython",
    "version": 3
   },
   "file_extension": ".py",
   "mimetype": "text/x-python",
   "name": "python",
   "nbconvert_exporter": "python",
   "pygments_lexer": "ipython3",
   "version": "3.9.7"
  }
 },
 "nbformat": 4,
 "nbformat_minor": 1
}
